{
  "nbformat": 4,
  "nbformat_minor": 0,
  "metadata": {
    "colab": {
      "provenance": [],
      "authorship_tag": "ABX9TyO7rutz+3rc0qJ8ruH5lkoe",
      "include_colab_link": true
    },
    "kernelspec": {
      "name": "python3",
      "display_name": "Python 3"
    },
    "language_info": {
      "name": "python"
    }
  },
  "cells": [
    {
      "cell_type": "markdown",
      "metadata": {
        "id": "view-in-github",
        "colab_type": "text"
      },
      "source": [
        "<a href=\"https://colab.research.google.com/github/Gauravchandel777/Gauravchandel777/blob/main/assignment_data_science.ipynb\" target=\"_parent\"><img src=\"https://colab.research.google.com/assets/colab-badge.svg\" alt=\"Open In Colab\"/></a>"
      ]
    },
    {
      "cell_type": "code",
      "execution_count": null,
      "metadata": {
        "id": "4-eZcL8SCEBR"
      },
      "outputs": [],
      "source": [
        "#What is the difference between static and dynamic variables in Python"
      ]
    },
    {
      "cell_type": "code",
      "source": [
        "#static variables==variables that are shared among all instance of a class they belong to the class not to any particular object\n"
      ],
      "metadata": {
        "id": "D62LQBjJCiBX"
      },
      "execution_count": null,
      "outputs": []
    },
    {
      "cell_type": "markdown",
      "source": [
        "dynamic variables = variables that are define inside methods and belong to the instance of the class each instance can have different values for these variables\n"
      ],
      "metadata": {
        "id": "UL3yYTYzDVSm"
      }
    },
    {
      "cell_type": "code",
      "source": [
        "#question number .==Explain the purpose of \"pop\",\"popitem\",\"clear(\n",
        "#\" in a dictionary with suitable examples8"
      ],
      "metadata": {
        "id": "rMWtIKWeD0uY"
      },
      "execution_count": null,
      "outputs": []
    },
    {
      "cell_type": "markdown",
      "source": [
        " ((pop)) ===Removes the specified key from the dictionary and returns its corresponding value.\n",
        "If the key is not found, and the default argument is provided, it returns the default value.\n",
        "If the key is not found and no default is provided, it raises a KeyError."
      ],
      "metadata": {
        "id": "eLEx5u_QEWiE"
      }
    },
    {
      "cell_type": "markdown",
      "source": [
        "     ((pop item))==removes and returns the last inserted key-value pair as a tuple (key, value).\n",
        "If the dictionary is empty, it raises a KeyError."
      ],
      "metadata": {
        "id": "hM2GPVMqEfWU"
      }
    },
    {
      "cell_type": "markdown",
      "source": [
        "  ((clear ))Removes all items from the dictionary, making it empty."
      ],
      "metadata": {
        "id": "ksdv6HM5Eq80"
      }
    },
    {
      "cell_type": "code",
      "source": [
        "#What do you mean by FrozenSet? Explain it with suitable examples8"
      ],
      "metadata": {
        "id": "hg0J1zSFJceq"
      },
      "execution_count": null,
      "outputs": []
    },
    {
      "cell_type": "markdown",
      "source": [
        " frozenset in Python is an immutable version of a set. While a set is a collection of unique elements that can be modified (elements can be added or removed), a frozenset cannot be changed after it is created. This makes frozenset hashable, meaning it can be used as a key in a dictionary or as an element of another set."
      ],
      "metadata": {
        "id": "CJ_DsuSOJggq"
      }
    },
    {
      "cell_type": "code",
      "source": [
        "# Creating a frozenset\n",
        "frozen = frozenset([1, 2, 3, 4, 5])\n",
        "print(frozen)\n",
        "try:\n",
        "    frozen.add(6)\n",
        "except AttributeError as e:\n",
        "    print(e)\n",
        "my_dict = {frozenset([1, 2, 3]): \"Value associated with frozenset\"}\n",
        "print(my_dict)\n",
        "set1 = frozenset([1, 2, 3])\n",
        "set2 = frozenset([3, 4, 5])\n",
        "union_result = set1 | set2\n",
        "print(union_result)\n",
        "intersection_result = set1 & set2\n",
        "print(intersection_result)\n",
        "\n",
        "difference_result = set1 - set2\n",
        "print(difference_result)\n"
      ],
      "metadata": {
        "colab": {
          "base_uri": "https://localhost:8080/"
        },
        "id": "PL0aVtDhJuUa",
        "outputId": "63c9036d-cd75-459f-a054-193ee69c33a3"
      },
      "execution_count": null,
      "outputs": [
        {
          "output_type": "stream",
          "name": "stdout",
          "text": [
            "frozenset({1, 2, 3, 4, 5})\n",
            "'frozenset' object has no attribute 'add'\n",
            "{frozenset({1, 2, 3}): 'Value associated with frozenset'}\n",
            "frozenset({1, 2, 3, 4, 5})\n",
            "frozenset({3})\n",
            "frozenset({1, 2})\n"
          ]
        }
      ]
    },
    {
      "cell_type": "code",
      "source": [
        "#Differentiate between mutable and immutable data types in Python and give examples of mutable and\n",
        "#immutable data types8"
      ],
      "metadata": {
        "id": "oVshQeNmUCQI"
      },
      "execution_count": null,
      "outputs": []
    },
    {
      "cell_type": "markdown",
      "source": [
        "Mutable Data Types\t                                        Immutable Data Types\n",
        "Definition\t==Can be changed after creation             \tCannot be changed after creation\n",
        "Modification==\t    Values can be modified in place without creating a new object\n",
        "Examples==\t   Lists, Dictionaries,        Sets\tStrings, Tuples, Integers, Floats\n",
        "Memory Efficiency\tMore memory-efficient when modifying elements\tLess      \n",
        "                                          memory-efficient for frequent changes\n",
        "Usage  == \tSuitable for scenarios where data changes frequently\tSuitable for scenarios where data remains constant"
      ],
      "metadata": {
        "id": "S6AuFJc6UM4a"
      }
    },
    {
      "cell_type": "code",
      "source": [
        "#What is __init__?Explain with an example8"
      ],
      "metadata": {
        "id": "Hqfy3QV6U5qo"
      },
      "execution_count": null,
      "outputs": []
    },
    {
      "cell_type": "code",
      "source": [
        " awnser==_init__ is a special method in Python, also known as a constructor. It is automatically called when an instance (object) of a class is created. The purpose of the __init__ method is to initialize the object's attributes with values."
      ],
      "metadata": {
        "id": "wU8U8qzWVAXc"
      },
      "execution_count": null,
      "outputs": []
    },
    {
      "cell_type": "code",
      "source": [
        "#What is docstring in Python?Explain with an example8"
      ],
      "metadata": {
        "id": "KXhh7LXQVmru"
      },
      "execution_count": null,
      "outputs": []
    },
    {
      "cell_type": "markdown",
      "source": [
        "awnser== docstring in Python is a special type of string that is used to document a module, class, method, or function. It provides a convenient way to associate documentation with Python code."
      ],
      "metadata": {
        "id": "8RiC8LgbV5kd"
      }
    },
    {
      "cell_type": "code",
      "source": [
        "def multiply_numbers(a, b):\n",
        "    return a * b\n",
        "result = multiply_numbers(5, 3)\n",
        "print(f\"The product of 5 and 3 is: {result}\")\n",
        "# Accessing karengey\n",
        "print(multiply_numbers.__doc__)"
      ],
      "metadata": {
        "colab": {
          "base_uri": "https://localhost:8080/"
        },
        "id": "IcMZfQSNWRwF",
        "outputId": "798b99b1-6c19-4ec9-86f0-60819dcbe344"
      },
      "execution_count": null,
      "outputs": [
        {
          "output_type": "stream",
          "name": "stdout",
          "text": [
            "The product of 5 and 3 is: 15\n",
            "None\n"
          ]
        }
      ]
    },
    {
      "cell_type": "code",
      "source": [
        "#What are unit tests in Python"
      ],
      "metadata": {
        "id": "5J2eZEECWuYn"
      },
      "execution_count": null,
      "outputs": []
    },
    {
      "cell_type": "markdown",
      "source": [
        " awnser====Unit tests in Python are a type of software testing where individual units or components of a program are tested. The purpose of unit testing is to validate that each unit of the software performs as expected. A \"unit\" is typically the smallest piece of code that can be logically isolated in a system, such as a function or method."
      ],
      "metadata": {
        "id": "D1y5djoTWvop"
      }
    },
    {
      "cell_type": "code",
      "source": [
        "#What is break, continue and pass in Python"
      ],
      "metadata": {
        "id": "jhGhQ3k3W8H_"
      },
      "execution_count": null,
      "outputs": []
    },
    {
      "cell_type": "markdown",
      "source": [
        "these are control flow statements in Python used to manage the flow of loops and conditional statements.\n",
        "break statement==Terminates the loop prematurely.\n",
        "continue==Skips the current iteration of the loop and continues with the next one.\n",
        "pass==Acts as a placeholder, allowing you to write code that is syntactically correct but does nothing.\n",
        "\n"
      ],
      "metadata": {
        "id": "Xr03Bm4eXAgz"
      }
    },
    {
      "cell_type": "code",
      "source": [
        "#What is the use of self in Python"
      ],
      "metadata": {
        "id": "jOm970PjZLLe"
      },
      "execution_count": null,
      "outputs": []
    },
    {
      "cell_type": "markdown",
      "source": [
        " awnser -==In Python, self is a reference to the current instance of the class. It is used to access variables and methods that belong to the class. The self parameter is explicitly included as the first parameter in instance methods, though it is implicitly passed by Python when the method is called."
      ],
      "metadata": {
        "id": "CRC1njeaZZGC"
      }
    },
    {
      "cell_type": "code",
      "source": [
        "#What are global, protected and private attributes in Python"
      ],
      "metadata": {
        "id": "R4bLZO9eZg65"
      },
      "execution_count": null,
      "outputs": []
    },
    {
      "cell_type": "markdown",
      "source": [
        "GLOBAL atribute== Attributes that are defined outside of any class and can be accessed from anywhere in the module.\n",
        "protected atribute==Attributes that are intended to be accessible within the class and its subclasses but not from outside the class directly.\n",
        "PRIVATE ATRIBUTE==Attributes that are intended to be accessible only within the class in which they are defined."
      ],
      "metadata": {
        "id": "PA6PMAr5ZmAw"
      }
    },
    {
      "cell_type": "code",
      "source": [
        "#What are modules and packages in Python"
      ],
      "metadata": {
        "id": "NQbIT2wdaE0t"
      },
      "execution_count": null,
      "outputs": []
    },
    {
      "cell_type": "markdown",
      "source": [
        "AWNSER==Modules and packages are essential concepts in Python that help organize and manage code, especially in larger projects. They enable reusability, maintainability, and structure in your codebase.\n",
        "\n"
      ],
      "metadata": {
        "id": "6SD5hizHaNHp"
      }
    },
    {
      "cell_type": "code",
      "source": [
        "#What are lists and tuples? What is the key difference between the two"
      ],
      "metadata": {
        "id": "Oi4pBLkdaU4l"
      },
      "execution_count": null,
      "outputs": []
    },
    {
      "cell_type": "markdown",
      "source": [
        "Lists and tuples are two of the most commonly used data structures in Python. They are both used to store collections of items but have some key differences.\n",
        "             =KEY DIFFERENCE=\n",
        "mutability is a difference between them o rwe can say that list is mutable while tuple is unmutable"
      ],
      "metadata": {
        "id": "fKGf_vzDaeXv"
      }
    },
    {
      "cell_type": "code",
      "source": [
        "#What is an Interpreted language & dynamically typed language?Write 5 differences between them"
      ],
      "metadata": {
        "id": "tP2ZL1UwdFdD"
      },
      "execution_count": null,
      "outputs": []
    },
    {
      "cell_type": "markdown",
      "source": [
        "Interpreted Language: Executes code directly without compilation, often resulting in slower execution speeds but providing flexibility and ease of debugging.\n",
        "\n",
        "Dynamically Typed Language: Determines variable types at runtime, allowing for more flexibility in coding, but with potential risks of type-related runtime errors.\n",
        "\n"
      ],
      "metadata": {
        "id": "7u1ba2bodHSx"
      }
    },
    {
      "cell_type": "code",
      "source": [
        "#What are Dict and List comprehensions"
      ],
      "metadata": {
        "id": "bO3Sqh7ziO7X"
      },
      "execution_count": null,
      "outputs": []
    },
    {
      "cell_type": "markdown",
      "source": [
        "Comprehensions are concise ways to create and manage collections in Python. They allow for the creation of lists, dictionaries, and sets using a compact syntax. This can make code more readable and often more efficient.\n",
        "=list comprehensions=\n",
        "Definition: A list comprehension provides a succinct way to create lists based on existing lists or other iterables. It consists of an expression followed by a for clause, and optionally, if clauses to filter elements.\n",
        "=dict =\n",
        "Definition: A dictionary comprehension provides a succinct way to create dictionaries. Similar to list comprehensions, it consists of a key-value pair expression followed by a for clause, and optionally, if clauses to filter items."
      ],
      "metadata": {
        "id": "v5oAYwYniYKa"
      }
    },
    {
      "cell_type": "code",
      "source": [
        "#What are decorators in Python? Explain it with an example.Write down its use cases8"
      ],
      "metadata": {
        "id": "WWGof3qmiq1x"
      },
      "execution_count": null,
      "outputs": []
    },
    {
      "cell_type": "markdown",
      "source": [
        "A decorator is a function that takes another function and extends its behavior without explicitly modifying it. It is applied to a function using the @decorator_name syntax."
      ],
      "metadata": {
        "id": "ZLt-d89RisB0"
      }
    },
    {
      "cell_type": "code",
      "source": [
        "def log_decorator(func):\n",
        "    def wrapper(*args, **kwargs):\n",
        "        print(f\"Calling function {func.__name__} with arguments {args} and kwargs {kwargs}\")\n",
        "        result = func(*args, **kwargs)\n",
        "        print(f\"Function {func.__name__} returned {result}\")\n",
        "        return result\n",
        "    return wrapper\n",
        "\n",
        "@log_decorator\n",
        "def add(x, y):\n",
        "    \"\"\"Add two numbers.\"\"\"\n",
        "    return x + y\n",
        "\n",
        "@log_decorator\n",
        "def greet(name, greeting=\"Hello\"):\n",
        "    \"\"\"Greet a person with a specified greeting.\"\"\"\n",
        "    return f\"{greeting}, {name}!\"\n",
        "\n",
        "# Call the decorated functions\n",
        "print(add(5, 7))\n",
        "print(greet(\"Alice\", greeting=\"Hi\"))\n"
      ],
      "metadata": {
        "colab": {
          "base_uri": "https://localhost:8080/"
        },
        "id": "Fmq3a7u0jBAk",
        "outputId": "5c9837ef-c5f2-49dd-ff54-de854e3f39be"
      },
      "execution_count": null,
      "outputs": [
        {
          "output_type": "stream",
          "name": "stdout",
          "text": [
            "Calling function add with arguments (5, 7) and kwargs {}\n",
            "Function add returned 12\n",
            "12\n",
            "Calling function greet with arguments ('Alice',) and kwargs {'greeting': 'Hi'}\n",
            "Function greet returned Hi, Alice!\n",
            "Hi, Alice!\n"
          ]
        }
      ]
    },
    {
      "cell_type": "code",
      "source": [
        "#How is memory managed in Python"
      ],
      "metadata": {
        "id": "QPu_A_ggjNYd"
      },
      "execution_count": null,
      "outputs": []
    },
    {
      "cell_type": "markdown",
      "source": [
        "BY MEMORY ALLOCATION\n",
        "BY GARBADGE COLLECTION\n",
        "MEMORY MANAGEMENTR MECHANISM\n",
        "OBJECT LIFETIMES"
      ],
      "metadata": {
        "id": "L29QIpgtjOcx"
      }
    },
    {
      "cell_type": "code",
      "source": [
        "#What is lambda in Python? Why is it used"
      ],
      "metadata": {
        "id": "671p0rZnjoK_"
      },
      "execution_count": null,
      "outputs": []
    },
    {
      "cell_type": "markdown",
      "source": [
        " awnser =====  In Python lambda is a keyword used to create small anonymous functions at runtime. These functions are often referred to as lambda functions or anonymous functions because they are defined without a name."
      ],
      "metadata": {
        "id": "Q-Ic9BQwjpP6"
      }
    },
    {
      "cell_type": "code",
      "source": [
        "#Explain split(\n",
        "#and join(\n",
        "#functions in Python"
      ],
      "metadata": {
        "id": "X9YhBtrOj3yl"
      },
      "execution_count": null,
      "outputs": []
    },
    {
      "cell_type": "markdown",
      "source": [
        "      ==The split() method is used to divide a string into a list of substrings based on a specified delimiter.\n",
        "\n",
        "The join() method is used to concatenate a list of strings into a single string with a specified delimiter."
      ],
      "metadata": {
        "id": "G7BkE9fvj-v9"
      }
    },
    {
      "cell_type": "code",
      "source": [
        "#What are iterators , iterable & generators in Python"
      ],
      "metadata": {
        "id": "5UstF-ZakTRM"
      },
      "execution_count": null,
      "outputs": []
    },
    {
      "cell_type": "markdown",
      "source": [
        "  = An iterable is any Python object capable of returning its members one at a time.\n",
        "\n",
        " =An iterator is an object that represents a stream of data. It is used to iterate over an iterable."
      ],
      "metadata": {
        "id": "b3kxsah7kWO3"
      }
    },
    {
      "cell_type": "code",
      "source": [
        "#What is the difference between xrange and range in Python"
      ],
      "metadata": {
        "id": "RQ3320-WkrYo"
      },
      "execution_count": null,
      "outputs": []
    },
    {
      "cell_type": "markdown",
      "source": [
        "range= Returns a list, consuming more memory for large ranges.\n",
        "\n",
        "xrange(): Returns an iterator, more memory efficient"
      ],
      "metadata": {
        "id": "vnovQ4vpkuFv"
      }
    },
    {
      "cell_type": "code",
      "source": [
        "#Pillars of Oops8"
      ],
      "metadata": {
        "id": "sVDO2GlFlG95"
      },
      "execution_count": null,
      "outputs": []
    },
    {
      "cell_type": "markdown",
      "source": [
        "primary pillars of oops are\n",
        "1encapsulatioin\n",
        "2inheritance\n",
        "3polymorphism\n",
        "4abstraction"
      ],
      "metadata": {
        "id": "yu4NuS_XlgJB"
      }
    },
    {
      "cell_type": "code",
      "source": [
        "# How will you check if a class is a child of another class"
      ],
      "metadata": {
        "id": "zZJMQa1el2V9"
      },
      "execution_count": null,
      "outputs": []
    },
    {
      "cell_type": "code",
      "source": [
        "we can check by  issubclass( function)"
      ],
      "metadata": {
        "id": "_rzwRvr_nBQO"
      },
      "execution_count": null,
      "outputs": []
    },
    {
      "cell_type": "code",
      "source": [
        "#How does inheritance work in python? Explain all types of inheritance with an example8"
      ],
      "metadata": {
        "id": "-JKZ5LYbnHCE"
      },
      "execution_count": null,
      "outputs": []
    },
    {
      "cell_type": "markdown",
      "source": [
        "nheritance in Python is a mechanism that allows one class (the child or subclass) to inherit attributes and methods from another class (the parent or superclass). It promotes code reuse and establishes a natural hierarchy between classes. There are several types of inheritance in Python\n",
        "\n"
      ],
      "metadata": {
        "id": "HnP8_PNhnXG6"
      }
    },
    {
      "cell_type": "code",
      "source": [
        "#single inehritance\n",
        "class Animal:\n",
        "    def speak(self):\n",
        "        print(\"Animal speaks\")\n",
        "\n",
        "class Dog(Animal):\n",
        "    def bark(self):\n",
        "        print(\"Dog barks\")\n",
        "dog = Dog()\n",
        "dog.speak()\n",
        "dog.bark()"
      ],
      "metadata": {
        "colab": {
          "base_uri": "https://localhost:8080/"
        },
        "id": "BVkA_fdjndPZ",
        "outputId": "f9fac502-a06c-44cf-f0ed-bcade15c0e9e"
      },
      "execution_count": null,
      "outputs": [
        {
          "output_type": "stream",
          "name": "stdout",
          "text": [
            "Animal speaks\n",
            "Dog barks\n"
          ]
        }
      ]
    },
    {
      "cell_type": "code",
      "source": [
        "#multiple inheritance\n",
        "class Father:\n",
        "    def skills(self):\n",
        "        print(\"Father's skills\")\n",
        "\n",
        "class Mother:\n",
        "    def hobbies(self):\n",
        "        print(\"Mother's hobbies\")\n",
        "\n",
        "class Child(Father, Mother):\n",
        "    pass\n",
        "child = Child()\n",
        "child.skills()\n",
        "child.hobbies()\n"
      ],
      "metadata": {
        "id": "ciS_MZ2Annvd"
      },
      "execution_count": null,
      "outputs": []
    },
    {
      "cell_type": "code",
      "source": [
        "#hiarechical inheritance\n",
        "class Vehicle:\n",
        "    def drive(self):\n",
        "        print(\"Vehicle drives\")\n",
        "\n",
        "class Car(Vehicle):\n",
        "    def honk(self):\n",
        "        print(\"Car honks\")\n",
        "\n",
        "class Bike(Vehicle):\n",
        "    def ring_bell(self):\n",
        "        print(\"Bike rings bell\")\n",
        "\n",
        "# Usage\n",
        "car = Car()\n",
        "car.drive()\n",
        "car.honk()\n",
        "\n",
        "bike = Bike()\n",
        "bike.drive()\n",
        "bike.ring_bell()"
      ],
      "metadata": {
        "colab": {
          "base_uri": "https://localhost:8080/"
        },
        "id": "Bo6xWq9pnyau",
        "outputId": "ce819e5e-37d4-4ef2-c1bb-d23c8132a409"
      },
      "execution_count": null,
      "outputs": [
        {
          "output_type": "stream",
          "name": "stdout",
          "text": [
            "Vehicle drives\n",
            "Car honks\n",
            "Vehicle drives\n",
            "Bike rings bell\n"
          ]
        }
      ]
    },
    {
      "cell_type": "code",
      "source": [
        "#hybrid inheritance\n",
        "class Vehicle:\n",
        "    def drive(self):\n",
        "        print(\"Vehicle drives\")\n",
        "\n",
        "class Car(Vehicle):\n",
        "    def honk(self):\n",
        "        print(\"Car honks\")\n",
        "\n",
        "class Bike(Vehicle):\n",
        "    def ring_bell(self):\n",
        "        print(\"Bike rings bell\")\n",
        "\n",
        "# Usage\n",
        "car = Car()\n",
        "car.drive()\n",
        "car.honk()\n",
        "\n",
        "bike = Bike()\n",
        "bike.drive()\n",
        "bike.ring_bell()"
      ],
      "metadata": {
        "colab": {
          "base_uri": "https://localhost:8080/"
        },
        "id": "IfvvJ-ZOoDkA",
        "outputId": "217bb074-40cf-48c1-b8a3-da608a9190ac"
      },
      "execution_count": null,
      "outputs": [
        {
          "output_type": "stream",
          "name": "stdout",
          "text": [
            "Vehicle drives\n",
            "Car honks\n",
            "Vehicle drives\n",
            "Bike rings bell\n"
          ]
        }
      ]
    },
    {
      "cell_type": "code",
      "source": [
        "#What is encapsulation? Explain it with an example8"
      ],
      "metadata": {
        "id": "B5nukITaoR70"
      },
      "execution_count": null,
      "outputs": []
    },
    {
      "cell_type": "markdown",
      "source": [
        "  this is one of the fundamental principles of Object-Oriented Programming (OOP). It refers to the concept of bundling the data (attributes) and methods (functions) that operate on the data into a single unit or class. Encapsulation helps in hiding the internal state of an object from the outside world and only exposing a controlled interface for interaction. This allows for better data protection and code maintenance."
      ],
      "metadata": {
        "id": "gqWLfJ5Joagr"
      }
    },
    {
      "cell_type": "code",
      "source": [
        "#What is polymorphism? Explain it with an example."
      ],
      "metadata": {
        "id": "Bkb0xYfxohFq"
      },
      "execution_count": null,
      "outputs": []
    },
    {
      "cell_type": "markdown",
      "source": [
        "   this is a core principle of Object-Oriented Programming (OOP) that allows objects of different classes to be treated as objects of a common superclass. It enables a single interface or method to be used for different underlying forms (data types). Polymorphism supports method overriding, where subclasses provide a specific implementation of a method that is already defined in its superclass.  example is given below\n",
        "   "
      ],
      "metadata": {
        "id": "9l-97Eztoqb0"
      }
    },
    {
      "cell_type": "code",
      "source": [
        "class Animal:\n",
        "    def speak(self):\n",
        "        raise NotImplementedError(\"Subclass must implement this method\")\n",
        "\n",
        "class Dog(Animal):\n",
        "    def speak(self):\n",
        "        return \"Woof\"\n",
        "\n",
        "class Cat(Animal):\n",
        "    def speak(self):\n",
        "        return \"Meow\"\n",
        "\n",
        "def make_animal_speak(animal):\n",
        "    print(animal.speak())\n",
        "\n",
        "# Usage\n",
        "dog = Dog()\n",
        "cat = Cat()\n",
        "\n",
        "make_animal_speak(dog)\n",
        "make_animal_speak(cat)"
      ],
      "metadata": {
        "colab": {
          "base_uri": "https://localhost:8080/"
        },
        "id": "OHnjmYdqou5O",
        "outputId": "0029e2da-9ccf-4cb4-efac-f7879fbd9bdd"
      },
      "execution_count": null,
      "outputs": [
        {
          "output_type": "stream",
          "name": "stdout",
          "text": [
            "Woof\n",
            "Meow\n"
          ]
        }
      ]
    },
    {
      "cell_type": "code",
      "source": [
        "#Question 1. 2. Which of the following identifier names are invalid and why?\n"
      ],
      "metadata": {
        "id": "GMyvIjq2pYpi"
      },
      "execution_count": null,
      "outputs": []
    },
    {
      "cell_type": "markdown",
      "source": [
        " awnser    Serial_no. (ends with a period)\n",
        "1st_Room (starts with a digit)\n",
        "Hundred$ (contains a dollar sign)\n",
        "total-Marks (contains a hyphen)\n",
        "Total Marks (contains a space)\n",
        "True (reserved keyword)\n"
      ],
      "metadata": {
        "id": "HtBfgO3Mpbw9"
      }
    },
    {
      "cell_type": "code",
      "source": [
        "#Question 1.3.\n",
        "name = [\"Mohan\", \"dash\", \"karam\", \"chandra\",\"gandhi\",\"Bapu\"]\n"
      ],
      "metadata": {
        "id": "Qyx5BZXip0Os"
      },
      "execution_count": null,
      "outputs": []
    },
    {
      "cell_type": "code",
      "source": [
        "#ans\n",
        "name.insert(0, \"freedom_fighter\")\n",
        "print(name)  # Output: ['freedom_fighter', 'Mohan', 'dash', 'karam', 'chandra', 'gandhi', 'Bapu']\n"
      ],
      "metadata": {
        "colab": {
          "base_uri": "https://localhost:8080/"
        },
        "id": "xwkVdIdAp6EU",
        "outputId": "e0b56165-849f-462d-9f36-f4ee33cc49ea"
      },
      "execution_count": null,
      "outputs": [
        {
          "output_type": "stream",
          "name": "stdout",
          "text": [
            "['freedom_fighter', 'Mohan', 'dash', 'karam', 'chandra', 'gandhi', 'Bapu']\n"
          ]
        }
      ]
    },
    {
      "cell_type": "code",
      "source": [
        "#outut\n",
        "print(name[::-1])\n"
      ],
      "metadata": {
        "colab": {
          "base_uri": "https://localhost:8080/"
        },
        "id": "WXyiZPleqDYI",
        "outputId": "c73834be-58ef-47eb-86de-0a2737848051"
      },
      "execution_count": null,
      "outputs": [
        {
          "output_type": "stream",
          "name": "stdout",
          "text": [
            "['Bapu', 'gandhi', 'chandra', 'karam', 'dash', 'Mohan', 'freedom_fighter']\n"
          ]
        }
      ]
    },
    {
      "cell_type": "code",
      "source": [
        "# adding two or more elemnt at the end of the list\n",
        "name.extend([\"NetaJi\", \"Bose\"])\n",
        "print(name)  # Output: ['freedom_fighter', 'Mohan', 'dash', 'karam', 'chandra', 'gandhi', 'Bapu', 'NetaJi', 'Bose']\n"
      ],
      "metadata": {
        "colab": {
          "base_uri": "https://localhost:8080/"
        },
        "id": "hDWa2pykqKpp",
        "outputId": "fa0f9bba-0614-47e1-b632-a1787457083b"
      },
      "execution_count": null,
      "outputs": [
        {
          "output_type": "stream",
          "name": "stdout",
          "text": [
            "['freedom_fighter', 'Mohan', 'dash', 'karam', 'chandra', 'gandhi', 'Bapu', 'NetaJi', 'Bose']\n"
          ]
        }
      ]
    },
    {
      "cell_type": "code",
      "source": [
        "#swaping\n",
        "name = [\"Bapuji\", \"dash\", \"karam\", \"chandra\", \"gandi\", \"Mohan\"]\n",
        "temp = name[-1]\n",
        "name[-1] = name[0]\n",
        "name[0] = temp\n",
        "print(name)"
      ],
      "metadata": {
        "colab": {
          "base_uri": "https://localhost:8080/"
        },
        "id": "z4YupmmFqRwT",
        "outputId": "f6fca52e-6128-4086-a6c9-0f013bda79a5"
      },
      "execution_count": null,
      "outputs": [
        {
          "output_type": "stream",
          "name": "stdout",
          "text": [
            "['Mohan', 'dash', 'karam', 'chandra', 'gandi', 'Bapuji']\n"
          ]
        }
      ]
    },
    {
      "cell_type": "code",
      "source": [
        "#Question 1.4.Find the output of the following.\n"
      ],
      "metadata": {
        "id": "VLpzdjWvqtcC"
      },
      "execution_count": null,
      "outputs": []
    },
    {
      "cell_type": "code",
      "source": [
        "animal = ['Human', 'cat', 'mat', 'cat', 'rat', 'Human', 'Lion']\n",
        "print(animal.count('Human'))\n",
        "print(animal.index('rat'))\n",
        "print(len(animal))\n"
      ],
      "metadata": {
        "colab": {
          "base_uri": "https://localhost:8080/"
        },
        "id": "RPmQCIbOqwu2",
        "outputId": "832b9af4-9553-4771-db33-14da33314db9"
      },
      "execution_count": null,
      "outputs": [
        {
          "output_type": "stream",
          "name": "stdout",
          "text": [
            "2\n",
            "4\n",
            "7\n"
          ]
        }
      ]
    },
    {
      "cell_type": "code",
      "source": [
        "# question number1.7. Write a program to create a simple calculator performing only four basic operations(+,-,/,*) ."
      ],
      "metadata": {
        "id": "8lA3iH0YrA0e"
      },
      "execution_count": null,
      "outputs": []
    },
    {
      "cell_type": "code",
      "source": [
        "def add(x, y):\n",
        "    return x + y\n",
        "\n",
        "def subtract(x, y):\n",
        "    return x - y\n",
        "\n",
        "def multiply(x, y):\n",
        "    return x * y\n",
        "\n",
        "def divide(x, y):\n",
        "    if y != 0:\n",
        "        return x / y\n",
        "    else:\n",
        "        return \"Error: Division by zero is not allowed\"\n",
        "\n",
        "def calculator():\n",
        "    print(\"Select operation:\")\n",
        "    print(\"1. Add\")\n",
        "    print(\"2. Subtract\")\n",
        "    print(\"3. Multiply\")\n",
        "    print(\"4. Divide\")\n",
        "\n",
        "    # Take user input\n",
        "    choice = input(\"Enter choice (1/2/3/4): \")\n",
        "\n",
        "    if choice in ['1', '2', '3', '4']:\n",
        "        num1 = float(input(\"Enter first number: \"))\n",
        "        num2 = float(input(\"Enter second number: \"))\n",
        "\n",
        "        if choice == '1':\n",
        "            print(f\"The result is: {add(num1, num2)}\")\n",
        "\n",
        "        elif choice == '2':\n",
        "            print(f\"The result is: {subtract(num1, num2)}\")\n",
        "\n",
        "        elif choice == '3':\n",
        "            print(f\"The result is: {multiply(num1, num2)}\")\n",
        "\n",
        "        elif choice == '4':\n",
        "            print(f\"The result is: {divide(num1, num2)}\")\n",
        "\n",
        "    else:\n",
        "        print(\"Invalid input\")\n",
        "\n",
        "# Run the calculator\n",
        "calculator()\n"
      ],
      "metadata": {
        "colab": {
          "base_uri": "https://localhost:8080/"
        },
        "id": "rAXbZ9UsrXqY",
        "outputId": "94954580-72e2-4834-cd0b-71894bbf2fee"
      },
      "execution_count": null,
      "outputs": [
        {
          "output_type": "stream",
          "name": "stdout",
          "text": [
            "Select operation:\n",
            "1. Add\n",
            "2. Subtract\n",
            "3. Multiply\n",
            "4. Divide\n",
            "Enter choice (1/2/3/4): 2\n",
            "Enter first number: 3\n",
            "Enter second number: 4\n",
            "The result is: -1.0\n"
          ]
        }
      ]
    },
    {
      "cell_type": "code",
      "source": [
        "#question numner 1.6. Write a program to display the appropriate message as per the color of signal(RED-Stop/Yellow-Stay/\n",
        "#Green-Go) at the road crossing."
      ],
      "metadata": {
        "id": "Qns8lJ98ruNX"
      },
      "execution_count": null,
      "outputs": []
    },
    {
      "cell_type": "code",
      "source": [
        "def traffic_signal(signal_color):\n",
        "    if signal_color.lower() == 'red':\n",
        "        return \"Stop\"\n",
        "    elif signal_color.lower() == 'yellow':\n",
        "        return \"Stay\"\n",
        "    elif signal_color.lower() == 'green':\n",
        "        return \"Go\"\n",
        "    else:\n",
        "        return \"Invalid color\"\n",
        "def main():\n",
        "    color = input(\"Enter the color of the traffic signal (Red/Yellow/Green): \")\n",
        "    message = traffic_signal(color)\n",
        "    print(message)\n",
        "main()\n"
      ],
      "metadata": {
        "colab": {
          "base_uri": "https://localhost:8080/"
        },
        "id": "KvOCi4Gyr2nQ",
        "outputId": "fe025646-fb04-4331-a1af-74ad68e83a1e"
      },
      "execution_count": null,
      "outputs": [
        {
          "output_type": "stream",
          "name": "stdout",
          "text": [
            "Enter the color of the traffic signal (Red/Yellow/Green): green\n",
            "Go\n"
          ]
        }
      ]
    },
    {
      "cell_type": "code",
      "source": [
        "#Question 1.5. tuple1=(10,20,\"Apple\",3.4,'a',[\"master\",\"ji\"],(\"sita\",\"geeta\",22),[{\"roll_no\"N1},\n"
      ],
      "metadata": {
        "id": "zL4GwZvI3h1Y"
      },
      "execution_count": null,
      "outputs": []
    },
    {
      "cell_type": "markdown",
      "source": [
        "The correct variable name should be tuple1 (not tuTle1).\n",
        "The correct function name should be print (not Trint).\n",
        "and the correct code is given below\n"
      ],
      "metadata": {
        "id": "MrumcoyV3ti-"
      }
    },
    {
      "cell_type": "code",
      "source": [
        "tuple1 = (10, 20, \"Apple\", 3.4, 'a', [\"master\", \"ji\"], (\"sita\", \"geeta\", 22), [{\"roll_no\": \"N1\"}, {\"name\": \"Navneet\"}])\n"
      ],
      "metadata": {
        "id": "QcMQSd7Z3yjw"
      },
      "execution_count": null,
      "outputs": []
    },
    {
      "cell_type": "code",
      "source": [
        "#question number 1.9. Write a program to find the factors of a whole number using a while loop.\n"
      ],
      "metadata": {
        "id": "Tc_EmRVA37Pr"
      },
      "execution_count": null,
      "outputs": []
    },
    {
      "cell_type": "code",
      "source": [
        "#anserr\n",
        "number = int(input(\"Enter a whole number: \"))\n",
        "i = 1\n",
        "\n",
        "# Print the factors\n",
        "print(f\"Factors of {number} are:\")\n",
        "\n",
        "while i <= number:\n",
        "    if number % i == 0:  # Check if i is a factor of number\n",
        "        print(i)  # Print the factor\n",
        "    i += 1  # Increment i by 1\n"
      ],
      "metadata": {
        "id": "1ocQepnm4NGa"
      },
      "execution_count": null,
      "outputs": []
    },
    {
      "cell_type": "code",
      "source": [
        "#question number 1.10. Write a program to find the sum of all the positive numbers entered by the user. As soon as the user"
      ],
      "metadata": {
        "id": "K377zcH_4Xrr"
      },
      "execution_count": null,
      "outputs": []
    },
    {
      "cell_type": "code",
      "source": [
        "#  awnser 1.10nitialize the sum variable\n",
        "total_sum = 0\n",
        "\n",
        "while True:\n",
        "    # Input: Get a number from the user\n",
        "    num = int(input(\"Enter a positive number (or 0/negative to stop): \"))\n",
        "\n",
        "    # Check if the number is positive\n",
        "    if num > 0:\n",
        "        total_sum += num  # Add the number to the sum\n",
        "    else:\n",
        "        break  # Exit the loop if the number is 0 or negative\n",
        "\n",
        "# Output: Print the sum of all positive numbers entered\n",
        "print(f\"The sum of all positive numbers entered is: {total_sum}\")\n"
      ],
      "metadata": {
        "colab": {
          "base_uri": "https://localhost:8080/"
        },
        "id": "0b1QbHat4Z-Q",
        "outputId": "767a13ca-282d-4e59-ff6c-7e28bb9c5c6f"
      },
      "execution_count": null,
      "outputs": [
        {
          "output_type": "stream",
          "name": "stdout",
          "text": [
            "Enter a positive number (or 0/negative to stop): 5\n",
            "Enter a positive number (or 0/negative to stop): 12\n",
            "Enter a positive number (or 0/negative to stop): 0\n",
            "The sum of all positive numbers entered is: 17\n"
          ]
        }
      ]
    },
    {
      "cell_type": "code",
      "source": [
        "#question number 1.11. Write a program to find prime numbers between 2 to 100 using nested for loops."
      ],
      "metadata": {
        "id": "Olw6C4C_41Pj"
      },
      "execution_count": null,
      "outputs": []
    },
    {
      "cell_type": "code",
      "source": [
        "# Outer loop: Iterate over each number from 2 to 100\n",
        "for num in range(2, 101):\n",
        "    is_prime = True\n",
        "    for i in range(2, num):\n",
        "        if num % i == 0:\n",
        "            is_prime = False\n",
        "            break\n",
        "    if is_prime:\n",
        "        print(num)\n"
      ],
      "metadata": {
        "colab": {
          "base_uri": "https://localhost:8080/"
        },
        "id": "OEkbMca943Vo",
        "outputId": "d233250f-eb76-4c2c-9e10-440bbef66fff"
      },
      "execution_count": null,
      "outputs": [
        {
          "output_type": "stream",
          "name": "stdout",
          "text": [
            "2\n",
            "3\n",
            "5\n",
            "7\n",
            "11\n",
            "13\n",
            "17\n",
            "19\n",
            "23\n",
            "29\n",
            "31\n",
            "37\n",
            "41\n",
            "43\n",
            "47\n",
            "53\n",
            "59\n",
            "61\n",
            "67\n",
            "71\n",
            "73\n",
            "79\n",
            "83\n",
            "89\n",
            "97\n"
          ]
        }
      ]
    },
    {
      "cell_type": "code",
      "source": [
        "#question number1.12. Write the programs for the followingM\n"
      ],
      "metadata": {
        "id": "rZhJ3W5O5lxT"
      },
      "execution_count": null,
      "outputs": []
    },
    {
      "cell_type": "code",
      "source": [
        "#awnser\n",
        "\n",
        "marks = []\n",
        "for i in range(5):\n",
        "    mark = int(input(f\"Enter marks for subject {i + 1}: \"))\n",
        "    marks.append(mark)\n",
        "\n",
        "\n",
        "print(\"Marks in five major subjects are:\", marks)\n",
        "\n",
        "# Calculate the total marks\n",
        "total_marks = sum(marks)\n",
        "percentage = total_marks / 5\n",
        "print(f\"Total Marks: {total_marks}\")\n",
        "print(f\"Percentage: {percentage}%\")\n",
        "match percentage:\n",
        "    case p if p > 85:\n",
        "        grade = 'A'\n",
        "    case p if 75 <= p <= 85:\n",
        "        grade = 'B'\n",
        "    case p if 50 <= p < 75:\n",
        "        grade = 'C'\n",
        "    case p if 30 < p < 50:\n",
        "        grade = 'D'\n",
        "    case _:\n",
        "        grade = 'Reappear'\n",
        "\n",
        "# Output: Display the grade\n",
        "print(f\"Grade: {grade}\")\n"
      ],
      "metadata": {
        "colab": {
          "base_uri": "https://localhost:8080/"
        },
        "id": "mgJZzH1c5tWY",
        "outputId": "aaf298d0-b6e8-40b8-d2d0-4126355f63b0"
      },
      "execution_count": null,
      "outputs": [
        {
          "output_type": "stream",
          "name": "stdout",
          "text": [
            "Enter marks for subject 1: 50\n",
            "Enter marks for subject 2: 20\n",
            "Enter marks for subject 3: 60\n",
            "Enter marks for subject 4: 20\n",
            "Enter marks for subject 5: 21\n",
            "Marks in five major subjects are: [50, 20, 60, 20, 21]\n",
            "Total Marks: 171\n",
            "Percentage: 34.2%\n",
            "Grade: D\n"
          ]
        }
      ]
    },
    {
      "cell_type": "code",
      "source": [
        "#question number 1.13. Write a program for VIBGYOR Spectrum based on their Wavelength using.\n",
        "#Wavelength Range:"
      ],
      "metadata": {
        "id": "InZuyrda6Vgi"
      },
      "execution_count": null,
      "outputs": []
    },
    {
      "cell_type": "code",
      "source": [
        "# Input: Accept a wavelength from the user\n",
        "wavelength = float(input(\"Enter the wavelength in nm: \"))\n",
        "\n",
        "# Determine the color based on the wavelength using match-case\n",
        "match wavelength:\n",
        "    case w if 400.0 <= w <= 440.0:\n",
        "        color = \"Violet\"\n",
        "    case w if 440.0 < w <= 460.0:\n",
        "        color = \"Indigo\"\n",
        "    case w if 460.0 < w <= 500.0:\n",
        "        color = \"Blue\"\n",
        "    case w if 500.0 < w <= 570.0:\n",
        "        color = \"Green\"\n",
        "    case w if 570.0 < w <= 590.0:\n",
        "        color = \"Yellow\"\n",
        "    case w if 590.0 < w <= 620.0:\n",
        "        color = \"Orange\"\n",
        "    case w if 620.0 < w <= 720.0:\n",
        "        color = \"Red\"\n",
        "    case _:\n",
        "        color = \"Wavelength is out of the visible spectrum.\"\n",
        "\n",
        "# Output: Display the color\n",
        "print(f\"The color corresponding to the wavelength {wavelength} nm is: {color}\")\n"
      ],
      "metadata": {
        "colab": {
          "base_uri": "https://localhost:8080/"
        },
        "id": "m3iUaMZ96ULp",
        "outputId": "b2e376db-0fc1-405d-eaa4-cd9832d91117"
      },
      "execution_count": null,
      "outputs": [
        {
          "output_type": "stream",
          "name": "stdout",
          "text": [
            "Enter the wavelength in nm: 500\n",
            "The color corresponding to the wavelength 500.0 nm is: Blue\n"
          ]
        }
      ]
    },
    {
      "cell_type": "code",
      "source": [
        "# question number1.14.Consider the gravitational interactions between the Earth, Moon, and Sun in our solar system.\n"
      ],
      "metadata": {
        "id": "V0BJ58NU67RW"
      },
      "execution_count": null,
      "outputs": []
    },
    {
      "cell_type": "code",
      "source": [
        "#awnser all the values are given in question\n",
        "\n",
        "# Gravitational constant\n",
        "G = 6.67430e-11 # Nm^2/kg^2\n",
        "\n",
        "# Given values\n",
        "mass_earth = 5.972e24  # Mass of Earth in kg\n",
        "mass_moon = 7.34767309e22  # Mass of Moon in kg\n",
        "mass_sun = 1.989e30  # Mass of Sun in kg\n",
        "\n",
        "# Distances\n",
        "distance_earth_sun = 1.496e11  # Distance between Earth and Sun in meters\n",
        "distance_moon_earth = 3.844e8  # Distance between Moon and Earth in meters\n",
        "\n",
        "# Calculate gravitational force between Earth and Sun\n",
        "force_earth_sun = (G * mass_earth * mass_sun) / (distance_earth_sun ** 2)\n",
        "\n",
        "# Calculate gravitational force between Moon and Earth\n",
        "force_moon_earth = (G * mass_moon * mass_earth) / (distance_moon_earth ** 2)\n",
        "\n",
        "# Display the calculated forces\n",
        "print(f\"Gravitational Force between Earth and Sun: {force_earth_sun} N\")\n",
        "print(f\"Gravitational Force between Moon and Earth: {force_moon_earth} N\")\n",
        "\n",
        "# Compare the forces\n",
        "if force_earth_sun > force_moon_earth:\n",
        "    print(\"The gravitational force between the Earth and the Sun is stronger.\")\n",
        "else:\n",
        "    print(\"The gravitational force between the Moon and the Earth is stronger.\")\n"
      ],
      "metadata": {
        "colab": {
          "base_uri": "https://localhost:8080/"
        },
        "id": "xrzVfk9N690D",
        "outputId": "2fd85ed6-4764-429f-a4e1-239f53268f2d"
      },
      "execution_count": null,
      "outputs": [
        {
          "output_type": "stream",
          "name": "stdout",
          "text": [
            "Gravitational Force between Earth and Sun: 3.5423960813684973e+22 N\n",
            "Gravitational Force between Moon and Earth: 1.982022545652681e+20 N\n",
            "The gravitational force between the Earth and the Sun is stronger.\n"
          ]
        }
      ]
    },
    {
      "cell_type": "code",
      "source": [
        "#question number 4. Design and implement a Python program for managing student information using object-oriented\n",
        "#principles. Create a class called `Student` with encapsulated attributes for name, age, and roll number.\n",
        "#Implement getter and setter methods for these attributes. Additionally, provide methods to display student\n",
        "#information and update student details."
      ],
      "metadata": {
        "id": "Rv-vHU2B8GIu"
      },
      "execution_count": null,
      "outputs": []
    },
    {
      "cell_type": "code",
      "source": [
        "#awmnser\n",
        "class Student:\n",
        "    def __init__(self, name, age, roll_number):\n",
        "        self.__name = name\n",
        "        self.__age = age\n",
        "        self.__roll_number = roll_number\n",
        "\n",
        "    # Getter and Setter for name\n",
        "    def get_name(self):\n",
        "        return self.__name\n",
        "\n",
        "    def set_name(self, name):\n",
        "        self.__name = name\n",
        "\n",
        "    # Getter and Setter for age\n",
        "    def get_age(self):\n",
        "        return self.__age\n",
        "\n",
        "    def set_age(self, age):\n",
        "        if age > 0:\n",
        "            self.__age = age\n",
        "        else:\n",
        "            print(\"Age must be positive.\")\n",
        "\n",
        "    # Getter and Setter for roll_number\n",
        "    def get_roll_number(self):\n",
        "        return self.__roll_number\n",
        "\n",
        "    def set_roll_number(self, roll_number):\n",
        "        self.__roll_number = roll_number\n",
        "\n",
        "    # Method to display student information\n",
        "    def display_info(self):\n",
        "        print(f\"Name: {self.__name}\")\n",
        "        print(f\"Age: {self.__age}\")\n",
        "        print(f\"Roll Number: {self.__roll_number}\")\n",
        "\n",
        "    # Method to update student details\n",
        "    def update_details(self, name=None, age=None, roll_number=None):\n",
        "        if name is not None:\n",
        "            self.set_name(name)\n",
        "        if age is not None:\n",
        "            self.set_age(age)\n",
        "        if roll_number is not None:\n",
        "            self.set_roll_number(roll_number)\n",
        "\n",
        "# Create instances of the Student class\n",
        "student1 = Student(\"Alice\", 20, \"S12345\")\n",
        "student2 = Student(\"Bob\", 22, \"S67890\")\n",
        "\n",
        "# Display student information\n",
        "print(\"Student 1 Information:\")\n",
        "student1.display_info()\n",
        "\n",
        "print(\"\\nStudent 2 Information:\")\n",
        "student2.display_info()\n",
        "\n",
        "# Update student details\n",
        "student1.update_details(name=\"Alicia\", age=21)\n",
        "student2.update_details(roll_number=\"S54321\")\n",
        "\n",
        "print(\"\\nUpdated Student 1 Information:\")\n",
        "student1.display_info()\n",
        "\n",
        "print(\"\\nUpdated Student 2 Information:\")\n",
        "student2.display_info()\n"
      ],
      "metadata": {
        "colab": {
          "base_uri": "https://localhost:8080/"
        },
        "id": "4lgc4OxI8Roz",
        "outputId": "c8de87ca-c17b-46fe-f9c5-2a99e448dbbe"
      },
      "execution_count": null,
      "outputs": [
        {
          "output_type": "stream",
          "name": "stdout",
          "text": [
            "Student 1 Information:\n",
            "Name: Alice\n",
            "Age: 20\n",
            "Roll Number: S12345\n",
            "\n",
            "Student 2 Information:\n",
            "Name: Bob\n",
            "Age: 22\n",
            "Roll Number: S67890\n",
            "\n",
            "Updated Student 1 Information:\n",
            "Name: Alicia\n",
            "Age: 21\n",
            "Roll Number: S12345\n",
            "\n",
            "Updated Student 2 Information:\n",
            "Name: Bob\n",
            "Age: 22\n",
            "Roll Number: S54321\n"
          ]
        }
      ]
    },
    {
      "cell_type": "code",
      "source": [
        "#question number=3.Develop a Python program for managing library resources efficiently. Design a class named `LibraryBoo`\n",
        "#with attributes lie boo name, author, and availability status. Implement methods for borrowing and\n",
        "#returning boos while ensuring proper encapsulation of attributes."
      ],
      "metadata": {
        "id": "YLYrboPR83yX"
      },
      "execution_count": null,
      "outputs": []
    },
    {
      "cell_type": "code",
      "source": [
        "class LibraryBook:\n",
        "    def __init__(self, name, author):\n",
        "        self.__name = name\n",
        "        self.__author = author\n",
        "        self.__is_available = True\n",
        "\n",
        "    # Getter for name\n",
        "    def get_name(self):\n",
        "        return self.__name\n",
        "\n",
        "    # Getter for author\n",
        "    def get_author(self):\n",
        "        return self.__author\n",
        "\n",
        "    # Getter for availability\n",
        "    def is_available(self):\n",
        "        return self.__is_available\n",
        "\n",
        "    # Method to borrow the book\n",
        "    def borrow_book(self):\n",
        "        if self.__is_available:\n",
        "            self.__is_available = False\n",
        "            print(f\"You have borrowed '{self.__name}' by {self.__author}.\")\n",
        "        else:\n",
        "            print(f\"'{self.__name}' is currently not available.\")\n",
        "\n",
        "    # Method to return the book\n",
        "    def return_book(self):\n",
        "        if not self.__is_available:\n",
        "            self.__is_available = True\n",
        "            print(f\"'{self.__name}' by {self.__author} has been returned.\")\n",
        "        else:\n",
        "            print(f\"'{self.__name}' was not borrowed or is already available.\")\n",
        "\n",
        "# Test the LibraryBook class\n",
        "def test_library_book():\n",
        "    # Create book instances\n",
        "    book1 = LibraryBook(\"To Kill a Mockingbird\", \"Harper Lee\")\n",
        "    book2 = LibraryBook(\"1984\", \"George Orwell\")\n",
        "\n",
        "    # Display initial availability\n",
        "    print(f\"Book 1 - Available: {book1.is_available()}\")\n",
        "    print(f\"Book 2 - Available: {book2.is_available()}\")\n",
        "\n",
        "    # Borrow books\n",
        "    book1.borrow_book()\n",
        "    book2.borrow_book()\n",
        "\n",
        "    # Try borrowing again\n",
        "    book1.borrow_book()\n",
        "\n",
        "    # Return books\n",
        "    book1.return_book()\n",
        "    book2.return_book()\n",
        "\n",
        "    # Display final availability\n",
        "    print(f\"Book 1 - Available: {book1.is_available()}\")\n",
        "    print(f\"Book 2 - Available: {book2.is_available()}\")\n",
        "\n",
        "# Run the test\n",
        "test_library_book()\n"
      ],
      "metadata": {
        "colab": {
          "base_uri": "https://localhost:8080/"
        },
        "id": "M5kSzs468l7C",
        "outputId": "ba91a869-67b4-4542-e468-c886f337b866"
      },
      "execution_count": null,
      "outputs": [
        {
          "output_type": "stream",
          "name": "stdout",
          "text": [
            "Book 1 - Available: True\n",
            "Book 2 - Available: True\n",
            "You have borrowed 'To Kill a Mockingbird' by Harper Lee.\n",
            "You have borrowed '1984' by George Orwell.\n",
            "'To Kill a Mockingbird' is currently not available.\n",
            "'To Kill a Mockingbird' by Harper Lee has been returned.\n",
            "'1984' by George Orwell has been returned.\n",
            "Book 1 - Available: True\n",
            "Book 2 - Available: True\n"
          ]
        }
      ]
    },
    {
      "cell_type": "code",
      "source": [
        "# question numbeer 4 .Create a simple baning system using object-oriented concepts in Python. Design classes representing\n"
      ],
      "metadata": {
        "id": "Vg6p7aBG-ra9"
      },
      "execution_count": null,
      "outputs": []
    },
    {
      "cell_type": "code",
      "source": [
        "class BankAccount:\n",
        "    def __init__(self, account_number, balance=0):\n",
        "        self.__account_number = account_number\n",
        "        self.__balance = balance\n",
        "\n",
        "    # Getter for balance\n",
        "    def get_balance(self):\n",
        "        return self.__balance\n",
        "\n",
        "    # Method to deposit money\n",
        "    def deposit(self, amount):\n",
        "        if amount > 0:\n",
        "            self.__balance += amount\n",
        "            print(f\"Deposited ${amount}. New balance: ${self.__balance}\")\n",
        "        else:\n",
        "            print(\"Deposit amount must be positive.\")\n",
        "\n",
        "    # Method to withdraw money\n",
        "    def withdraw(self, amount):\n",
        "        if amount > 0:\n",
        "            if amount <= self.__balance:\n",
        "                self.__balance -= amount\n",
        "                print(f\"Withdrew ${amount}. New balance: ${self.__balance}\")\n",
        "            else:\n",
        "                print(\"Insufficient balance.\")\n",
        "        else:\n",
        "            print(\"Withdrawal amount must be positive.\")\n",
        "\n",
        "    # Method to display account details\n",
        "    def display_account_info(self):\n",
        "        print(f\"Account Number: {self.__account_number}\")\n",
        "        print(f\"Balance: ${self.__balance}\")\n",
        "\n",
        "class SavingsAccount(BankAccount):\n",
        "    def __init__(self, account_number, balance=0, interest_rate=0.02):\n",
        "        super().__init__(account_number, balance)\n",
        "        self.__interest_rate = interest_rate\n",
        "\n",
        "    # Method to apply interest\n",
        "    def apply_interest(self):\n",
        "        interest = self.get_balance() * self.__interest_rate\n",
        "        self.deposit(interest)\n",
        "        print(f\"Applied interest: ${interest}\")\n",
        "\n",
        "class CheckingAccount(BankAccount):\n",
        "    def __init__(self, account_number, balance=0, overdraft_limit=500):\n",
        "        super().__init__(account_number, balance)\n",
        "        self.__overdraft_limit = overdraft_limit\n",
        "\n",
        "    # Method to withdraw with overdraft protection\n",
        "    def withdraw(self, amount):\n",
        "        if amount > 0:\n",
        "            if amount <= (self.get_balance() + self.__overdraft_limit):\n",
        "                if amount > self.get_balance():\n",
        "                    overdraft = amount - self.get_balance()\n",
        "                    print(f\"Using overdraft of ${overdraft}\")\n",
        "                super().withdraw(amount)\n",
        "            else:\n",
        "                print(\"Exceeded overdraft limit.\")\n",
        "        else:\n",
        "            print(\"Withdrawal amount must be positive.\")\n",
        "\n",
        "# Test the banking system\n",
        "def test_banking_system():\n",
        "    # Create instances of SavingsAccount and CheckingAccount\n",
        "    savings = SavingsAccount(\"SA12345\", 1000)\n",
        "    checking = CheckingAccount(\"CA67890\", 500)\n",
        "\n",
        "    # Display initial balances\n",
        "    print(\"Savings Account Info:\")\n",
        "    savings.display_account_info()\n",
        "    print(\"\\nChecking Account Info:\")\n",
        "    checking.display_account_info()\n",
        "\n",
        "    # Perform transactions\n",
        "    savings.deposit(200)\n",
        "    savings.withdraw(100)\n",
        "    savings.apply_interest()\n",
        "\n",
        "    checking.deposit(150)\n",
        "    checking.withdraw(700)  # This will use overdraft\n",
        "\n",
        "    # Display final balances\n",
        "    print(\"\\nFinal Savings Account Info:\")\n",
        "    savings.display_account_info()\n",
        "    print(\"\\nFinal Checking Account Info:\")\n",
        "    checking.display_account_info()\n",
        "\n",
        "# Run the test\n",
        "test_banking_system()"
      ],
      "metadata": {
        "colab": {
          "base_uri": "https://localhost:8080/"
        },
        "id": "jUn1D8bt-ZW6",
        "outputId": "d50518f3-0e5f-4ca2-f920-90bc86400cd1"
      },
      "execution_count": null,
      "outputs": [
        {
          "output_type": "stream",
          "name": "stdout",
          "text": [
            "Savings Account Info:\n",
            "Account Number: SA12345\n",
            "Balance: $1000\n",
            "\n",
            "Checking Account Info:\n",
            "Account Number: CA67890\n",
            "Balance: $500\n",
            "Deposited $200. New balance: $1200\n",
            "Withdrew $100. New balance: $1100\n",
            "Deposited $22.0. New balance: $1122.0\n",
            "Applied interest: $22.0\n",
            "Deposited $150. New balance: $650\n",
            "Using overdraft of $50\n",
            "Insufficient balance.\n",
            "\n",
            "Final Savings Account Info:\n",
            "Account Number: SA12345\n",
            "Balance: $1122.0\n",
            "\n",
            "Final Checking Account Info:\n",
            "Account Number: CA67890\n",
            "Balance: $650\n"
          ]
        }
      ]
    },
    {
      "cell_type": "code",
      "source": [
        "# question number 5.Write a Python program that models different animals and their sounds. Design a base class called\n"
      ],
      "metadata": {
        "id": "YMR0VMtR--S2"
      },
      "execution_count": null,
      "outputs": []
    },
    {
      "cell_type": "code",
      "source": [
        "#awnser class Animal:\n",
        "class Animal:\n",
        "    def make_sound(self):\n",
        "        raise NotImplementedError(\"Subclass must implement abstract method\")\n",
        "\n",
        "class Dog(Animal):\n",
        "    def make_sound(self):\n",
        "        return \"Woof!\"\n",
        "\n",
        "class Cat(Animal):\n",
        "    def make_sound(self):\n",
        "        return \"Meow!\"\n",
        "\n",
        "# Test the program\n",
        "def test_animal_sounds():\n",
        "    # Create instances of Dog and Cat\n",
        "    dog = Dog()\n",
        "    cat = Cat()\n",
        "\n",
        "    # Call the make_sound method and print the results\n",
        "    print(\"Dog sound:\", dog.make_sound())\n",
        "    print(\"Cat sound:\", cat.make_sound())\n",
        "\n",
        "# Run the test\n",
        "test_animal_sounds()\n"
      ],
      "metadata": {
        "colab": {
          "base_uri": "https://localhost:8080/"
        },
        "id": "gixozCj0_Cv8",
        "outputId": "d6f150c7-bce2-4867-a9d8-29ce8d687ca8"
      },
      "execution_count": null,
      "outputs": [
        {
          "output_type": "stream",
          "name": "stdout",
          "text": [
            "Dog sound: Woof!\n",
            "Cat sound: Meow!\n"
          ]
        }
      ]
    },
    {
      "cell_type": "code",
      "source": [
        "#6.Write a code for Restaurant Management System Using oops\n",
        "class MenuItem:\n",
        "    def __init__(self, name, description, price, category):\n",
        "        self.__id = id(self)  # Unique ID using the object's memory address\n",
        "        self.__name = name\n",
        "        self.__description = description\n",
        "        self.__price = price\n",
        "        self.__category = category\n",
        "\n",
        "    # Getter and Setter for name\n",
        "    def get_name(self):\n",
        "        return self.__name\n",
        "\n",
        "    def set_name(self, name):\n",
        "        self.__name = name\n",
        "\n",
        "    # Getter and Setter for description\n",
        "    def get_description(self):\n",
        "        return self.__description\n",
        "\n",
        "    def set_description(self, description):\n",
        "        self.__description = description\n",
        "\n",
        "    # Getter and Setter for price\n",
        "    def get_price(self):\n",
        "        return self.__price\n",
        "\n",
        "    def set_price(self, price):\n",
        "        if price > 0:\n",
        "            self.__price = price\n",
        "        else:\n",
        "            print(\"Price must be positive.\")\n",
        "\n",
        "    # Getter for category\n",
        "    def get_category(self):\n",
        "        return self.__category\n",
        "\n",
        "    # Display item information\n",
        "    def display_info(self):\n",
        "        print(f\"Name: {self.__name}\")\n",
        "        print(f\"Description: {self.__description}\")\n",
        "        print(f\"Price: ${self.__price:.2f}\")\n",
        "        print(f\"Category: {self.__category}\")\n",
        "\n",
        "    # Update menu item information\n",
        "    def update_info(self, name=None, description=None, price=None):\n",
        "        if name is not None:\n",
        "            self.set_name(name)\n",
        "        if description is not None:\n",
        "            self.set_description(description)\n",
        "        if price is not None:\n",
        "            self.set_price(price)\n",
        "\n",
        "    # Remove the menu item\n",
        "    def remove_item(self):\n",
        "        print(f\"Removing item: {self.__name}\")\n",
        "        del self\n",
        "\n",
        "class FoodItem(MenuItem):\n",
        "    def __init__(self, name, description, price, cuisine_type):\n",
        "        super().__init__(name, description, price, \"Food\")\n",
        "        self.__cuisine_type = cuisine_type\n",
        "\n",
        "    # Getter for cuisine_type\n",
        "    def get_cuisine_type(self):\n",
        "        return self.__cuisine_type\n",
        "\n",
        "    # Display food item information\n",
        "    def display_info(self):\n",
        "        super().display_info()\n",
        "        print(f\"Cuisine Type: {self.__cuisine_type}\")\n",
        "\n",
        "class BeverageItem(MenuItem):\n",
        "    def __init__(self, name, description, price, is_alcoholic):\n",
        "        super().__init__(name, description, price, \"Beverage\")\n",
        "        self.__is_alcoholic = is_alcoholic\n",
        "\n",
        "    # Getter for is_alcoholic\n",
        "    def get_is_alcoholic(self):\n",
        "        return self.__is_alcoholic\n",
        "\n",
        "    # Display beverage item information\n",
        "    def display_info(self):\n",
        "        super().display_info()\n",
        "        print(f\"Alcoholic: {'Yes' if self.__is_alcoholic else 'No'}\")\n",
        "\n",
        "# Test the Restaurant Management System\n",
        "def test_restaurant_management_system():\n",
        "    # Create instances of FoodItem and BeverageItem\n",
        "    pizza = FoodItem(\"Margherita Pizza\", \"Classic pizza with tomatoes and cheese\", 12.99, \"Italian\")\n",
        "    soda = BeverageItem(\"Cola\", \"Carbonated soft drink\", 1.99, False)\n",
        "\n",
        "    # Display initial information\n",
        "    print(\"Initial Menu Items:\")\n",
        "    pizza.display_info()\n",
        "    print()\n",
        "    soda.display_info()\n",
        "    print()\n",
        "\n",
        "    # Update menu item information\n",
        "    pizza.update_info(price=13.99)\n",
        "    soda.update_info(name=\"Diet Cola\")\n",
        "\n",
        "    # Display updated information\n",
        "    print(\"Updated Menu Items:\")\n",
        "    pizza.display_info()\n",
        "    print()\n",
        "    soda.display_info()\n",
        "    print()\n",
        "\n",
        "    # Remove menu items\n",
        "    pizza.remove_item()\n",
        "    soda.remove_item()\n",
        "\n",
        "# Run the test\n",
        "test_restaurant_management_system()\n"
      ],
      "metadata": {
        "colab": {
          "base_uri": "https://localhost:8080/"
        },
        "id": "JETXxxZz_l-Q",
        "outputId": "c58c84c3-873a-4d08-cd2f-b40e7b1dc3fa"
      },
      "execution_count": null,
      "outputs": [
        {
          "output_type": "stream",
          "name": "stdout",
          "text": [
            "Initial Menu Items:\n",
            "Name: Margherita Pizza\n",
            "Description: Classic pizza with tomatoes and cheese\n",
            "Price: $12.99\n",
            "Category: Food\n",
            "Cuisine Type: Italian\n",
            "\n",
            "Name: Cola\n",
            "Description: Carbonated soft drink\n",
            "Price: $1.99\n",
            "Category: Beverage\n",
            "Alcoholic: No\n",
            "\n",
            "Updated Menu Items:\n",
            "Name: Margherita Pizza\n",
            "Description: Classic pizza with tomatoes and cheese\n",
            "Price: $13.99\n",
            "Category: Food\n",
            "Cuisine Type: Italian\n",
            "\n",
            "Name: Diet Cola\n",
            "Description: Carbonated soft drink\n",
            "Price: $1.99\n",
            "Category: Beverage\n",
            "Alcoholic: No\n",
            "\n",
            "Removing item: Margherita Pizza\n",
            "Removing item: Diet Cola\n"
          ]
        }
      ]
    },
    {
      "cell_type": "code",
      "source": [
        "#.Write a code for Hotel Management System using OO4S 3\n",
        "class Room:\n",
        "    def __init__(self, room_number, room_type, rate):\n",
        "        self.__room_number = room_number  # Unique ID for the room\n",
        "        self.__room_type = room_type\n",
        "        self.__rate = rate\n",
        "        self.__availability = True  # Room is available by default\n",
        "        self.__current_guest = None\n",
        "\n",
        "    # Getter and Setter for room_type\n",
        "    def get_room_type(self):\n",
        "        return self.__room_type\n",
        "\n",
        "    def set_room_type(self, room_type):\n",
        "        self.__room_type = room_type\n",
        "\n",
        "    # Getter and Setter for rate\n",
        "    def get_rate(self):\n",
        "        return self.__rate\n",
        "\n",
        "    def set_rate(self, rate):\n",
        "        if rate > 0:\n",
        "            self.__rate = rate\n",
        "        else:\n",
        "            print(\"Rate must be positive.\")\n",
        "\n",
        "    # Method to book a room\n",
        "    def book_room(self, guest_name):\n",
        "        if self.__availability:\n",
        "            self.__availability = False\n",
        "            self.__current_guest = guest_name\n",
        "            print(f\"Room {self.__room_number} has been booked by {guest_name}.\")\n",
        "        else:\n",
        "            print(f\"Room {self.__room_number} is not available.\")\n",
        "\n",
        "    # Method to check in a guest\n",
        "    def check_in(self, guest_name):\n",
        "        if not self.__availability and self.__current_guest == guest_name:\n",
        "            print(f\"Guest {guest_name} has checked in to room {self.__room_number}.\")\n",
        "        else:\n",
        "            print(f\"Room {self.__room_number} is either available or not booked by {guest_name}.\")\n",
        "\n",
        "    # Method to check out a guest\n",
        "    def check_out(self, guest_name):\n",
        "        if not self.__availability and self.__current_guest == guest_name:\n",
        "            self.__availability = True\n",
        "            self.__current_guest = None\n",
        "            print(f\"Guest {guest_name} has checked out of room {self.__room_number}.\")\n",
        "        else:\n",
        "            print(f\"Room {self.__room_number} is either available or not occupied by {guest_name}.\")\n",
        "\n",
        "    # Display room information\n",
        "    def display_info(self):\n",
        "        status = \"Available\" if self.__availability else f\"Occupied by {self.__current_guest}\"\n",
        "        print(f\"Room Number: {self.__room_number}\")\n",
        "        print(f\"Room Type: {self.__room_type}\")\n",
        "        print(f\"Rate: ${self.__rate:.2f}\")\n",
        "        print(f\"Status: {status}\")\n",
        "\n",
        "class SuiteRoom(Room):\n",
        "    def __init__(self, room_number, rate, has_jacuzzi):\n",
        "        super().__init__(room_number, \"Suite\", rate)\n",
        "        self.__has_jacuzzi = has_jacuzzi\n",
        "\n",
        "    # Getter for has_jacuzzi\n",
        "    def get_has_jacuzzi(self):\n",
        "        return self.__has_jacuzzi\n",
        "\n",
        "    # Display suite room information\n",
        "    def display_info(self):\n",
        "        super().display_info()\n",
        "        print(f\"Jacuzzi: {'Yes' if self.__has_jacuzzi else 'No'}\")\n",
        "\n",
        "class StandardRoom(Room):\n",
        "    def __init__(self, room_number, rate, floor):\n",
        "        super().__init__(room_number, \"Standard\", rate)\n",
        "        self.__floor = floor\n",
        "\n",
        "    # Getter for floor\n",
        "    def get_floor(self):\n",
        "        return self.__floor\n",
        "\n",
        "    # Display standard room information\n",
        "    def display_info(self):\n",
        "        super().display_info()\n",
        "        print(f\"Floor: {self.__floor}\")\n",
        "\n",
        "# Test the Hotel Management System\n",
        "def test_hotel_management_system():\n",
        "    # Create instances of SuiteRoom and StandardRoom\n",
        "    suite = SuiteRoom(101, 200, True)\n",
        "    standard = StandardRoom(202, 100, 2)\n",
        "\n",
        "    # Display initial room information\n",
        "    print(\"Initial Room Information:\")\n",
        "    suite.display_info()\n",
        "    print()\n",
        "    standard.display_info()\n",
        "    print()\n",
        "\n",
        "    # Book rooms\n",
        "    suite.book_room(\"Alice\")\n",
        "    standard.book_room(\"Bob\")\n",
        "\n",
        "    # Check in guests\n",
        "    suite.check_in(\"Alice\")\n",
        "    standard.check_in(\"Bob\")\n",
        "\n",
        "    # Attempt to check in again\n",
        "    suite.check_in(\"Alice\")\n",
        "\n",
        "    # Check out guests\n",
        "    suite.check_out(\"Alice\")\n",
        "    standard.check_out(\"Bob\")\n",
        "\n",
        "    # Display final room information\n",
        "    print(\"\\nFinal Room Information:\")\n",
        "    suite.display_info()\n",
        "    print()\n",
        "    standard.display_info()\n",
        "\n",
        "# Run the test\n",
        "test_hotel_management_system()\n"
      ],
      "metadata": {
        "colab": {
          "base_uri": "https://localhost:8080/"
        },
        "id": "DsEAcZD5_67s",
        "outputId": "8bf66a8c-6baa-4c9c-cc84-e3dc510e7c8f"
      },
      "execution_count": null,
      "outputs": [
        {
          "output_type": "stream",
          "name": "stdout",
          "text": [
            "Initial Room Information:\n",
            "Room Number: 101\n",
            "Room Type: Suite\n",
            "Rate: $200.00\n",
            "Status: Available\n",
            "Jacuzzi: Yes\n",
            "\n",
            "Room Number: 202\n",
            "Room Type: Standard\n",
            "Rate: $100.00\n",
            "Status: Available\n",
            "Floor: 2\n",
            "\n",
            "Room 101 has been booked by Alice.\n",
            "Room 202 has been booked by Bob.\n",
            "Guest Alice has checked in to room 101.\n",
            "Guest Bob has checked in to room 202.\n",
            "Guest Alice has checked in to room 101.\n",
            "Guest Alice has checked out of room 101.\n",
            "Guest Bob has checked out of room 202.\n",
            "\n",
            "Final Room Information:\n",
            "Room Number: 101\n",
            "Room Type: Suite\n",
            "Rate: $200.00\n",
            "Status: Available\n",
            "Jacuzzi: Yes\n",
            "\n",
            "Room Number: 202\n",
            "Room Type: Standard\n",
            "Rate: $100.00\n",
            "Status: Available\n",
            "Floor: 2\n"
          ]
        }
      ]
    },
    {
      "cell_type": "code",
      "source": [
        "#8.Write a code for Fitness Club Management System using OO4S3\n"
      ],
      "metadata": {
        "id": "xNOzkVPCAJmm"
      },
      "execution_count": null,
      "outputs": []
    },
    {
      "cell_type": "code",
      "source": [
        "class Member:\n",
        "    def __init__(self, name, age, membership_type):\n",
        "        self.__id = id(self)  # Unique ID using the object's memory address\n",
        "        self.__name = name\n",
        "        self.__age = age\n",
        "        self.__membership_type = membership_type\n",
        "        self.__membership_status = \"Active\"  # Default status\n",
        "        self.__membership_expiry = None\n",
        "\n",
        "    # Getter and Setter for name\n",
        "    def get_name(self):\n",
        "        return self.__name\n",
        "\n",
        "    def set_name(self, name):\n",
        "        self.__name = name\n",
        "\n",
        "    # Getter and Setter for age\n",
        "    def get_age(self):\n",
        "        return self.__age\n",
        "\n",
        "    def set_age(self, age):\n",
        "        if age > 0:\n",
        "            self.__age = age\n",
        "        else:\n",
        "            print(\"Age must be positive.\")\n",
        "\n",
        "    # Getter and Setter for membership_type\n",
        "    def get_membership_type(self):\n",
        "        return self.__membership_type\n",
        "\n",
        "    def set_membership_type(self, membership_type):\n",
        "        self.__membership_type = membership_type\n",
        "\n",
        "    # Getter for membership_status\n",
        "    def get_membership_status(self):\n",
        "        return self.__membership_status\n",
        "\n",
        "    # Method to register a new member\n",
        "    def register_member(self):\n",
        "        self.__membership_status = \"Active\"\n",
        "        print(f\"Member {self.__name} registered with {self.__membership_type} membership.\")\n",
        "\n",
        "    # Method to renew a membership\n",
        "    def renew_membership(self):\n",
        "        if self.__membership_status == \"Active\":\n",
        "            print(f\"Membership for {self.__name} is already active.\")\n",
        "        else:\n",
        "            self.__membership_status = \"Active\"\n",
        "            print(f\"Membership for {self.__name} has been renewed.\")\n",
        "\n",
        "    # Method to cancel a membership\n",
        "    def cancel_membership(self):\n",
        "        self.__membership_status = \"Cancelled\"\n",
        "        print(f\"Membership for {self.__name} has been cancelled.\")\n",
        "\n",
        "    # Display member information\n",
        "    def display_info(self):\n",
        "        print(f\"Name: {self.__name}\")\n",
        "        print(f\"Age: {self.__age}\")\n",
        "        print(f\"Membership Type: {self.__membership_type}\")\n",
        "        print(f\"Membership Status: {self.__membership_status}\")\n",
        "\n",
        "class FamilyMember(Member):\n",
        "    def __init__(self, name, age, membership_type, number_of_dependents):\n",
        "        super().__init__(name, age, membership_type)\n",
        "        self.__number_of_dependents = number_of_dependents\n",
        "\n",
        "    # Getter for number_of_dependents\n",
        "    def get_number_of_dependents(self):\n",
        "        return self.__number_of_dependents\n",
        "\n",
        "    # Display family member information\n",
        "    def display_info(self):\n",
        "        super().display_info()\n",
        "        print(f\"Number of Dependents: {self.__number_of_dependents}\")\n",
        "\n",
        "class IndividualMember(Member):\n",
        "    def __init__(self, name, age, membership_type, personal_trainer=False):\n",
        "        super().__init__(name, age, membership_type)\n",
        "        self.__personal_trainer = personal_trainer\n",
        "\n",
        "    # Getter for personal_trainer\n",
        "    def has_personal_trainer(self):\n",
        "        return self.__personal_trainer\n",
        "\n",
        "    # Display individual member information\n",
        "    def display_info(self):\n",
        "        super().display_info()\n",
        "        print(f\"Personal Trainer: {'Yes' if self.__personal_trainer else 'No'}\")\n",
        "\n",
        "# Test the Fitness Club Management System\n",
        "def test_fitness_club_management_system():\n",
        "    # Create instances of FamilyMember and IndividualMember\n",
        "    family_member = FamilyMember(\"John Doe\", 35, \"Family\", 3)\n",
        "    individual_member = IndividualMember(\"Jane Smith\", 28, \"Individual\", True)\n",
        "\n",
        "    # Display initial member information\n",
        "    print(\"Initial Member Information:\")\n",
        "    family_member.display_info()\n",
        "    print()\n",
        "    individual_member.display_info()\n",
        "    print()\n",
        "\n",
        "    # Register members\n",
        "    family_member.register_member()\n",
        "    individual_member.register_member()\n",
        "\n",
        "    # Renew memberships\n",
        "    family_member.renew_membership()\n",
        "    individual_member.renew_membership()\n",
        "\n",
        "    # Cancel memberships\n",
        "    family_member.cancel_membership()\n",
        "    individual_member.cancel_membership()\n",
        "\n",
        "    # Display final member information\n",
        "    print(\"\\nFinal Member Information:\")\n",
        "    family_member.display_info()\n",
        "    print()\n",
        "    individual_member.display_info()\n",
        "\n",
        "# Run the test\n",
        "test_fitness_club_management_system()\n"
      ],
      "metadata": {
        "colab": {
          "base_uri": "https://localhost:8080/"
        },
        "id": "8SmyiD9eALw4",
        "outputId": "d3fc044a-85be-4ffb-b55d-df4061786911"
      },
      "execution_count": null,
      "outputs": [
        {
          "output_type": "stream",
          "name": "stdout",
          "text": [
            "Initial Member Information:\n",
            "Name: John Doe\n",
            "Age: 35\n",
            "Membership Type: Family\n",
            "Membership Status: Active\n",
            "Number of Dependents: 3\n",
            "\n",
            "Name: Jane Smith\n",
            "Age: 28\n",
            "Membership Type: Individual\n",
            "Membership Status: Active\n",
            "Personal Trainer: Yes\n",
            "\n",
            "Member John Doe registered with Family membership.\n",
            "Member Jane Smith registered with Individual membership.\n",
            "Membership for John Doe is already active.\n",
            "Membership for Jane Smith is already active.\n",
            "Membership for John Doe has been cancelled.\n",
            "Membership for Jane Smith has been cancelled.\n",
            "\n",
            "Final Member Information:\n",
            "Name: John Doe\n",
            "Age: 35\n",
            "Membership Type: Family\n",
            "Membership Status: Cancelled\n",
            "Number of Dependents: 3\n",
            "\n",
            "Name: Jane Smith\n",
            "Age: 28\n",
            "Membership Type: Individual\n",
            "Membership Status: Cancelled\n",
            "Personal Trainer: Yes\n"
          ]
        }
      ]
    },
    {
      "cell_type": "code",
      "source": [
        "# question numnber 9.Write a code for Event Management System using OO4S3"
      ],
      "metadata": {
        "id": "nHG9E1JyAizY"
      },
      "execution_count": null,
      "outputs": []
    },
    {
      "cell_type": "code",
      "source": [
        "class Event:\n",
        "    def __init__(self, name, date, time, location):\n",
        "        self.__id = id(self)  # Unique ID using the object's memory address\n",
        "        self.__name = name\n",
        "        self.__date = date\n",
        "        self.__time = time\n",
        "        self.__location = location\n",
        "        self.__attendees = []\n",
        "\n",
        "    # Getter and Setter for name\n",
        "    def get_name(self):\n",
        "        return self.__name\n",
        "\n",
        "    def set_name(self, name):\n",
        "        self.__name = name\n",
        "\n",
        "    # Getter and Setter for date\n",
        "    def get_date(self):\n",
        "        return self.__date\n",
        "\n",
        "    def set_date(self, date):\n",
        "        self.__date = date\n",
        "\n",
        "    # Getter and Setter for time\n",
        "    def get_time(self):\n",
        "        return self.__time\n",
        "\n",
        "    def set_time(self, time):\n",
        "        self.__time = time\n",
        "\n",
        "    # Getter and Setter for location\n",
        "    def get_location(self):\n",
        "        return self.__location\n",
        "\n",
        "    def set_location(self, location):\n",
        "        self.__location = location\n",
        "\n",
        "    # Method to add an attendee\n",
        "    def add_attendee(self, attendee_name):\n",
        "        if attendee_name not in self.__attendees:\n",
        "            self.__attendees.append(attendee_name)\n",
        "            print(f\"Attendee {attendee_name} added to the event.\")\n",
        "        else:\n",
        "            print(f\"Attendee {attendee_name} is already on the list.\")\n",
        "\n",
        "    # Method to remove an attendee\n",
        "    def remove_attendee(self, attendee_name):\n",
        "        if attendee_name in self.__attendees:\n",
        "            self.__attendees.remove(attendee_name)\n",
        "            print(f\"Attendee {attendee_name} removed from the event.\")\n",
        "        else:\n",
        "            print(f\"Attendee {attendee_name} not found.\")\n",
        "\n",
        "    # Method to get the total number of attendees\n",
        "    def get_total_attendees(self):\n",
        "        return len(self.__attendees)\n",
        "\n",
        "    # Display event information\n",
        "    def display_info(self):\n",
        "        print(f\"Event Name: {self.__name}\")\n",
        "        print(f\"Date: {self.__date}\")\n",
        "        print(f\"Time: {self.__time}\")\n",
        "        print(f\"Location: {self.__location}\")\n",
        "        print(f\"Total Attendees: {self.get_total_attendees()}\")\n",
        "\n",
        "class PrivateEvent(Event):\n",
        "    def __init__(self, name, date, time, location, host):\n",
        "        super().__init__(name, date, time, location)\n",
        "        self.__host = host\n",
        "\n",
        "    # Getter for host\n",
        "    def get_host(self):\n",
        "        return self.__host\n",
        "\n",
        "    # Display private event information\n",
        "    def display_info(self):\n",
        "        super().display_info()\n",
        "        print(f\"Host: {self.__host}\")\n",
        "\n",
        "class PublicEvent(Event):\n",
        "    def __init__(self, name, date, time, location, entry_fee):\n",
        "        super().__init__(name, date, time, location)\n",
        "        self.__entry_fee = entry_fee\n",
        "\n",
        "    # Getter for entry_fee\n",
        "    def get_entry_fee(self):\n",
        "        return self.__entry_fee\n",
        "\n",
        "    # Display public event information\n",
        "    def display_info(self):\n",
        "        super().display_info()\n",
        "        print(f\"Entry Fee: ${self.__entry_fee:.2f}\")\n",
        "\n",
        "# Test the Event Management System\n",
        "def test_event_management_system():\n",
        "    # Create instances of PrivateEvent and PublicEvent\n",
        "    private_event = PrivateEvent(\"Exclusive Dinner\", \"2024-09-15\", \"19:00\", \"The Grand Hall\", \"John Doe\")\n",
        "    public_event = PublicEvent(\"Community Fair\", \"2024-09-20\", \"10:00\", \"City Park\", 5.00)\n",
        "\n",
        "    # Display initial event information\n",
        "    print(\"Initial Event Information:\")\n",
        "    private_event.display_info()\n",
        "    print()\n",
        "    public_event.display_info()\n",
        "    print()\n",
        "\n",
        "    # Add and remove attendees\n",
        "    private_event.add_attendee(\"Alice\")\n",
        "    private_event.add_attendee(\"Bob\")\n",
        "    private_event.remove_attendee(\"Alice\")\n",
        "\n",
        "    public_event.add_attendee(\"Charlie\")\n",
        "    public_event.add_attendee(\"Dana\")\n",
        "\n",
        "    # Display updated event information\n",
        "    print(\"\\nUpdated Event Information:\")\n",
        "    private_event.display_info()\n",
        "    print()\n",
        "    public_event.display_info()\n",
        "\n",
        "# Run the test\n",
        "test_event_management_system()\n"
      ],
      "metadata": {
        "colab": {
          "base_uri": "https://localhost:8080/"
        },
        "id": "VlVGQicGAqQZ",
        "outputId": "aced7278-baea-47bf-ffd8-43b19711cd31"
      },
      "execution_count": null,
      "outputs": [
        {
          "output_type": "stream",
          "name": "stdout",
          "text": [
            "Initial Event Information:\n",
            "Event Name: Exclusive Dinner\n",
            "Date: 2024-09-15\n",
            "Time: 19:00\n",
            "Location: The Grand Hall\n",
            "Total Attendees: 0\n",
            "Host: John Doe\n",
            "\n",
            "Event Name: Community Fair\n",
            "Date: 2024-09-20\n",
            "Time: 10:00\n",
            "Location: City Park\n",
            "Total Attendees: 0\n",
            "Entry Fee: $5.00\n",
            "\n",
            "Attendee Alice added to the event.\n",
            "Attendee Bob added to the event.\n",
            "Attendee Alice removed from the event.\n",
            "Attendee Charlie added to the event.\n",
            "Attendee Dana added to the event.\n",
            "\n",
            "Updated Event Information:\n",
            "Event Name: Exclusive Dinner\n",
            "Date: 2024-09-15\n",
            "Time: 19:00\n",
            "Location: The Grand Hall\n",
            "Total Attendees: 1\n",
            "Host: John Doe\n",
            "\n",
            "Event Name: Community Fair\n",
            "Date: 2024-09-20\n",
            "Time: 10:00\n",
            "Location: City Park\n",
            "Total Attendees: 2\n",
            "Entry Fee: $5.00\n"
          ]
        }
      ]
    },
    {
      "cell_type": "code",
      "source": [
        "#10.Write a code for Airline Reservation System using OO4S3"
      ],
      "metadata": {
        "id": "px7tUEGyA_OW"
      },
      "execution_count": null,
      "outputs": []
    },
    {
      "cell_type": "code",
      "source": [
        "class Flight:\n",
        "    def __init__(self, flight_number, departure_airport, arrival_airport, departure_time, arrival_time, total_seats):\n",
        "        self.__id = id(self)  # Unique ID using the object's memory address\n",
        "        self.__flight_number = flight_number\n",
        "        self.__departure_airport = departure_airport\n",
        "        self.__arrival_airport = arrival_airport\n",
        "        self.__departure_time = departure_time\n",
        "        self.__arrival_time = arrival_time\n",
        "        self.__total_seats = total_seats\n",
        "        self.__available_seats = total_seats\n",
        "        self.__reservations = []\n",
        "\n",
        "    # Getter and Setter for flight_number\n",
        "    def get_flight_number(self):\n",
        "        return self.__flight_number\n",
        "\n",
        "    def set_flight_number(self, flight_number):\n",
        "        self.__flight_number = flight_number\n",
        "\n",
        "    # Getter and Setter for departure_airport\n",
        "    def get_departure_airport(self):\n",
        "        return self.__departure_airport\n",
        "\n",
        "    def set_departure_airport(self, departure_airport):\n",
        "        self.__departure_airport = departure_airport\n",
        "\n",
        "    # Getter and Setter for arrival_airport\n",
        "    def get_arrival_airport(self):\n",
        "        return self.__arrival_airport\n",
        "\n",
        "    def set_arrival_airport(self, arrival_airport):\n",
        "        self.__arrival_airport = arrival_airport\n",
        "\n",
        "    # Getter and Setter for departure_time\n",
        "    def get_departure_time(self):\n",
        "        return self.__departure_time\n",
        "\n",
        "    def set_departure_time(self, departure_time):\n",
        "        self.__departure_time = departure_time\n",
        "\n",
        "    # Getter and Setter for arrival_time\n",
        "    def get_arrival_time(self):\n",
        "        return self.__arrival_time\n",
        "\n",
        "    def set_arrival_time(self, arrival_time):\n",
        "        self.__arrival_time = arrival_time\n",
        "\n",
        "    # Method to book a seat\n",
        "    def book_seat(self, passenger_name):\n",
        "        if self.__available_seats > 0:\n",
        "            self.__reservations.append(passenger_name)\n",
        "            self.__available_seats -= 1\n",
        "            print(f\"Seat booked for {passenger_name} on flight {self.__flight_number}.\")\n",
        "        else:\n",
        "            print(f\"No available seats on flight {self.__flight_number}.\")\n",
        "\n",
        "    # Method to cancel a reservation\n",
        "    def cancel_reservation(self, passenger_name):\n",
        "        if passenger_name in self.__reservations:\n",
        "            self.__reservations.remove(passenger_name)\n",
        "            self.__available_seats += 1\n",
        "            print(f\"Reservation for {passenger_name} on flight {self.__flight_number} has been cancelled.\")\n",
        "        else:\n",
        "            print(f\"No reservation found for {passenger_name} on flight {self.__flight_number}.\")\n",
        "\n",
        "    # Method to get remaining available seats\n",
        "    def get_remaining_seats(self):\n",
        "        return self.__available_seats\n",
        "\n",
        "    # Display flight information\n",
        "    def display_info(self):\n",
        "        print(f\"Flight Number: {self.__flight_number}\")\n",
        "        print(f\"Departure Airport: {self.__departure_airport}\")\n",
        "        print(f\"Arrival Airport: {self.__arrival_airport}\")\n",
        "        print(f\"Departure Time: {self.__departure_time}\")\n",
        "        print(f\"Arrival Time: {self.__arrival_time}\")\n",
        "        print(f\"Total Seats: {self.__total_seats}\")\n",
        "        print(f\"Available Seats: {self.get_remaining_seats()}\")\n",
        "\n",
        "class DomesticFlight(Flight):\n",
        "    def __init__(self, flight_number, departure_airport, arrival_airport, departure_time, arrival_time, total_seats, domestic_tax):\n",
        "        super().__init__(flight_number, departure_airport, arrival_airport, departure_time, arrival_time, total_seats)\n",
        "        self.__domestic_tax = domestic_tax\n",
        "\n",
        "    # Getter for domestic_tax\n",
        "    def get_domestic_tax(self):\n",
        "        return self.__domestic_tax\n",
        "\n",
        "    # Display domestic flight information\n",
        "    def display_info(self):\n",
        "        super().display_info()\n",
        "        print(f\"Domestic Tax: ${self.__domestic_tax:.2f}\")\n",
        "\n",
        "class InternationalFlight(Flight):\n",
        "    def __init__(self, flight_number, departure_airport, arrival_airport, departure_time, arrival_time, total_seats, international_fee):\n",
        "        super().__init__(flight_number, departure_airport, arrival_airport, departure_time, arrival_time, total_seats)\n",
        "        self.__international_fee = international_fee\n",
        "\n",
        "    # Getter for international_fee\n",
        "    def get_international_fee(self):\n",
        "        return self.__international_fee\n",
        "\n",
        "    # Display international flight information\n",
        "    def display_info(self):\n",
        "        super().display_info()\n",
        "        print(f\"International Fee: ${self.__international_fee:.2f}\")\n",
        "\n",
        "# Test the Airline Reservation System\n",
        "def test_airline_reservation_system():\n",
        "    # Create instances of DomesticFlight and InternationalFlight\n",
        "    domestic_flight = DomesticFlight(\"DL123\", \"JFK\", \"LAX\", \"08:00\", \"11:00\", 150, 50.00)\n",
        "    international_flight = InternationalFlight(\"AF456\", \"JFK\", \"CDG\", \"18:00\", \"07:00\", 200, 150.00)\n",
        "\n",
        "    # Display initial flight information\n",
        "    print(\"Initial Flight Information:\")\n",
        "    domestic_flight.display_info()\n",
        "    print()\n",
        "    international_flight.display_info()\n",
        "    print()\n",
        "\n",
        "    # Book seats\n",
        "    domestic_flight.book_seat(\"Alice\")\n",
        "    domestic_flight.book_seat(\"Bob\")\n",
        "    international_flight.book_seat(\"Charlie\")\n",
        "\n",
        "    # Cancel reservations\n",
        "    domestic_flight.cancel_reservation(\"Alice\")\n",
        "    international_flight.cancel_reservation(\"Charlie\")\n",
        "\n",
        "    # Display updated flight information\n",
        "    print(\"\\nUpdated Flight Information:\")\n",
        "    domestic_flight.display_info()\n",
        "    print()\n",
        "    international_flight.display_info()\n",
        "\n",
        "# Run the test\n",
        "test_airline_reservation_system()\n"
      ],
      "metadata": {
        "colab": {
          "base_uri": "https://localhost:8080/"
        },
        "id": "SMAu63rtBGWS",
        "outputId": "5718be0e-a133-4156-fd31-e42864761a71"
      },
      "execution_count": null,
      "outputs": [
        {
          "output_type": "stream",
          "name": "stdout",
          "text": [
            "Initial Flight Information:\n",
            "Flight Number: DL123\n",
            "Departure Airport: JFK\n",
            "Arrival Airport: LAX\n",
            "Departure Time: 08:00\n",
            "Arrival Time: 11:00\n",
            "Total Seats: 150\n",
            "Available Seats: 150\n",
            "Domestic Tax: $50.00\n",
            "\n",
            "Flight Number: AF456\n",
            "Departure Airport: JFK\n",
            "Arrival Airport: CDG\n",
            "Departure Time: 18:00\n",
            "Arrival Time: 07:00\n",
            "Total Seats: 200\n",
            "Available Seats: 200\n",
            "International Fee: $150.00\n",
            "\n",
            "Seat booked for Alice on flight DL123.\n",
            "Seat booked for Bob on flight DL123.\n",
            "Seat booked for Charlie on flight AF456.\n",
            "Reservation for Alice on flight DL123 has been cancelled.\n",
            "Reservation for Charlie on flight AF456 has been cancelled.\n",
            "\n",
            "Updated Flight Information:\n",
            "Flight Number: DL123\n",
            "Departure Airport: JFK\n",
            "Arrival Airport: LAX\n",
            "Departure Time: 08:00\n",
            "Arrival Time: 11:00\n",
            "Total Seats: 150\n",
            "Available Seats: 149\n",
            "Domestic Tax: $50.00\n",
            "\n",
            "Flight Number: AF456\n",
            "Departure Airport: JFK\n",
            "Arrival Airport: CDG\n",
            "Departure Time: 18:00\n",
            "Arrival Time: 07:00\n",
            "Total Seats: 200\n",
            "Available Seats: 200\n",
            "International Fee: $150.00\n"
          ]
        }
      ]
    },
    {
      "cell_type": "code",
      "source": [
        "# 11. Define a Python module named constants.py containing constants like pi and the speed of light.#"
      ],
      "metadata": {
        "id": "bBNhE5KWBjYC"
      },
      "execution_count": null,
      "outputs": []
    },
    {
      "cell_type": "code",
      "source": [
        "# constants.py\n",
        "\n",
        "# Mathematical constant: Pi\n",
        "PI = 3.141592653589793\n",
        "\n",
        "# Speed of light in meters per second\n",
        "SPEED_OF_LIGHT = 299792458  # m/s\n",
        "\n",
        "# Gravitational constant (G) in m^3 kg^-1 s^-2\n",
        "GRAVITATIONAL_CONSTANT = 6.67430e-11\n",
        "\n",
        "# Planck's constant (h) in Joule seconds\n",
        "PLANCK_CONSTANT = 6.62607015e-34\n",
        "\n",
        "# Elementary charge (e) in Coulombs\n",
        "ELEMENTARY_CHARGE = 1.602176634e-19\n"
      ],
      "metadata": {
        "id": "JLNVHksGBUFC"
      },
      "execution_count": null,
      "outputs": []
    },
    {
      "cell_type": "code",
      "source": [
        "#  11. Define a Python module named constants.py containing constants like pi and the speed of light.constants.py\n",
        "\n",
        "# Define some common constants\n",
        "pi = 3.141592653589793\n",
        "speed_of_light = 299792458  # in meters per second\n",
        "gravitational_constant = 6.67430e-11  # in m^3 kg^-1 s^-2\n",
        "plancks_constant = 6.62607015e-34  # in Joule seconds\n"
      ],
      "metadata": {
        "id": "rx18oWMckY02"
      },
      "execution_count": null,
      "outputs": []
    },
    {
      "cell_type": "code",
      "source": [
        "# Example usage\n",
        "print(\"Value of pi:\", pi)\n",
        "print(\"Speed of light:\", speed_of_light, \"m/s\")\n",
        "print(\"Gravitational constant:\", gravitational_constant, \"m^3 kg^-1 s^-2\")\n",
        "print(\"Planck's constant:\", plancks_constant, \"Joule seconds\")\n"
      ],
      "metadata": {
        "colab": {
          "base_uri": "https://localhost:8080/"
        },
        "id": "kid9FQ8TkXyd",
        "outputId": "4744af40-294b-4a3a-ec88-121e238cfe67"
      },
      "execution_count": null,
      "outputs": [
        {
          "output_type": "stream",
          "name": "stdout",
          "text": [
            "Value of pi: 3.141592653589793\n",
            "Speed of light: 299792458 m/s\n",
            "Gravitational constant: 6.6743e-11 m^3 kg^-1 s^-2\n",
            "Planck's constant: 6.62607015e-34 Joule seconds\n"
          ]
        }
      ]
    },
    {
      "cell_type": "code",
      "source": [
        "#13. Implement a Python package structure for a project named ecommerce, containing modules for product\n",
        "#management and order processing.\n"
      ],
      "metadata": {
        "id": "HeRIgkUpmrO9"
      },
      "execution_count": null,
      "outputs": []
    },
    {
      "cell_type": "code",
      "source": [
        "# ecommerce/product_management.py\n",
        "\n",
        "# Example functions for managing products\n",
        "def add_product(name, price):\n",
        "    return f\"Product '{name}' added with price {price}\"\n",
        "\n",
        "def remove_product(name):\n",
        "    return f\"Product '{name}' removed\"\n"
      ],
      "metadata": {
        "id": "VuSIdFWqmyh0"
      },
      "execution_count": null,
      "outputs": []
    },
    {
      "cell_type": "code",
      "source": [
        "# ecommerce/order_processing.py\n",
        "\n",
        "# Example functions for processing orders\n",
        "def create_order(product, quantity):\n",
        "    return f\"Order created for {quantity} unit(s) of '{product}'\"\n",
        "\n",
        "def cancel_order(order_id):\n",
        "    return f\"Order with ID '{order_id}' canceled\"\n"
      ],
      "metadata": {
        "id": "5D90W_YRm58N"
      },
      "execution_count": null,
      "outputs": []
    },
    {
      "cell_type": "code",
      "source": [
        "# Use the functions from the modules\n",
        "\n",
        "# Product Management\n",
        "print(add_product(\"Laptop\", 1500))\n",
        "print(remove_product(\"Laptop\"))\n",
        "\n",
        "# Order Processing\n",
        "print(create_order(\"Laptop\", 2))\n",
        "print(cancel_order(\"12345\"))\n"
      ],
      "metadata": {
        "colab": {
          "base_uri": "https://localhost:8080/"
        },
        "id": "0iSFdrJEohCX",
        "outputId": "b4e3255c-bec9-4661-af1c-07249f45c23d"
      },
      "execution_count": null,
      "outputs": [
        {
          "output_type": "stream",
          "name": "stdout",
          "text": [
            "Product 'Laptop' added with price 1500\n",
            "Product 'Laptop' removed\n",
            "Order created for 2 unit(s) of 'Laptop'\n",
            "Order with ID '12345' canceled\n"
          ]
        }
      ]
    },
    {
      "cell_type": "code",
      "source": [
        "#14. Implement a Python module named string_utils.py containing functions for string manipulation, such as\n",
        "#reversing and capitalizing strings."
      ],
      "metadata": {
        "id": "XbBB3SgCovQa"
      },
      "execution_count": null,
      "outputs": []
    },
    {
      "cell_type": "code",
      "source": [
        "# Create the string_utils.py file with functions for string manipulation\n",
        "with open('string_utils.py', 'w') as f:\n",
        "    f.write(\"\"\"\n",
        "def reverse_string(input_string):\n",
        "    return input_string[::-1]\n",
        "\n",
        "def capitalize_string(input_string):\n",
        "    return input_string.upper()\n",
        "\"\"\")\n",
        "\n"
      ],
      "metadata": {
        "id": "t2tsWe9voyY2"
      },
      "execution_count": null,
      "outputs": []
    },
    {
      "cell_type": "code",
      "source": [
        "import os\n",
        "os.listdir()\n",
        "# Import the string_utils module\n",
        "\n"
      ],
      "metadata": {
        "colab": {
          "base_uri": "https://localhost:8080/"
        },
        "id": "oaq8Hsf8qgRL",
        "outputId": "2ffce57e-fad2-471e-973a-d0a9e7922fdb"
      },
      "execution_count": null,
      "outputs": [
        {
          "output_type": "execute_result",
          "data": {
            "text/plain": [
              "['.config', 'string_utils.py', '__pycache__', 'sample_data']"
            ]
          },
          "metadata": {},
          "execution_count": 33
        }
      ]
    },
    {
      "cell_type": "code",
      "source": [
        "import importlib\n",
        "import string_utils\n",
        "importlib.reload(string_utils)\n"
      ],
      "metadata": {
        "colab": {
          "base_uri": "https://localhost:8080/"
        },
        "id": "XtgLqCqNq5dz",
        "outputId": "f8db1681-4ccf-46b9-9f8b-22614f85f274"
      },
      "execution_count": null,
      "outputs": [
        {
          "output_type": "execute_result",
          "data": {
            "text/plain": [
              "<module 'string_utils' from '/content/string_utils.py'>"
            ]
          },
          "metadata": {},
          "execution_count": 34
        }
      ]
    },
    {
      "cell_type": "code",
      "source": [
        "# Import the string_utils module\n",
        "import string_utils\n",
        "\n",
        "# Example usage of the string_utils module\n",
        "original_string = \"hello world\"\n",
        "\n",
        "# Reverse the string\n",
        "reversed_string = string_utils.reverse_string(original_string)\n",
        "print(\"Reversed String:\", reversed_string)\n",
        "\n",
        "# Capitalize the string\n",
        "capitalized_string = string_utils.capitalize_string(original_string)\n",
        "print(\"Capitalized String:\", capitalized_string)\n"
      ],
      "metadata": {
        "colab": {
          "base_uri": "https://localhost:8080/"
        },
        "id": "R6Hr-ynaqs25",
        "outputId": "8d88a5c5-7ac5-46e3-b5f1-c9a420367803"
      },
      "execution_count": null,
      "outputs": [
        {
          "output_type": "stream",
          "name": "stdout",
          "text": [
            "Reversed String: dlrow olleh\n",
            "Capitalized String: HELLO WORLD\n"
          ]
        }
      ]
    },
    {
      "cell_type": "code",
      "source": [
        "# question number 15. Write a Python module named file_operations.py with functions for reading, writing, and appending\n",
        "#data to a file."
      ],
      "metadata": {
        "id": "j3f5V-mNry72"
      },
      "execution_count": null,
      "outputs": []
    },
    {
      "cell_type": "code",
      "source": [
        "# Create the file_operations.py file with functions for file operations\n",
        "with open('file_operations.py', 'w') as f:\n",
        "    f.write(\"\"\"\n",
        "def read_from_file(filename):\n",
        "    with open(filename, 'r') as file:\n",
        "        content = file.read()\n",
        "    return content\n",
        "\n",
        "def write_to_file(filename, content): # Added write_to_file function\n",
        "    with open(filename, 'w') as file:\n",
        "        file.write(content)\n",
        "\n",
        "def append_to_file(filename, content): # Added append_to_file function\n",
        "    with open(filename, 'a') as file:\n",
        "        file.write(content)\n",
        "\"\"\")\n"
      ],
      "metadata": {
        "id": "ImW-ROePr9wc"
      },
      "execution_count": null,
      "outputs": []
    },
    {
      "cell_type": "code",
      "source": [
        "import importlib\n",
        "import file_operations\n",
        "importlib.reload(file_operations)\n"
      ],
      "metadata": {
        "colab": {
          "base_uri": "https://localhost:8080/"
        },
        "id": "ThUoDqMhs2UK",
        "outputId": "5574f56b-44d1-4290-850a-15e3ce489291"
      },
      "execution_count": null,
      "outputs": [
        {
          "output_type": "execute_result",
          "data": {
            "text/plain": [
              "<module 'file_operations' from '/content/file_operations.py'>"
            ]
          },
          "metadata": {},
          "execution_count": 58
        }
      ]
    },
    {
      "cell_type": "code",
      "source": [
        "dir(file_operations)\n"
      ],
      "metadata": {
        "colab": {
          "base_uri": "https://localhost:8080/"
        },
        "id": "Uo-_s0sWs5jM",
        "outputId": "c03e1668-0629-4d4d-e4fd-b25d48820fde"
      },
      "execution_count": null,
      "outputs": [
        {
          "output_type": "execute_result",
          "data": {
            "text/plain": [
              "['__builtins__',\n",
              " '__cached__',\n",
              " '__doc__',\n",
              " '__file__',\n",
              " '__loader__',\n",
              " '__name__',\n",
              " '__package__',\n",
              " '__spec__',\n",
              " 'append_to_file',\n",
              " 'read_from_file',\n",
              " 'write_to_file']"
            ]
          },
          "metadata": {},
          "execution_count": 59
        }
      ]
    },
    {
      "cell_type": "code",
      "source": [
        "# Import the file_operations module\n",
        "import file_operations\n",
        "\n",
        "# Define a filename\n",
        "filename = 'example.txt'\n",
        "\n",
        "# Write to the file\n",
        "file_operations.write_to_file(filename, 'This is the initial content.\\n')\n",
        "\n",
        "# Append to the file\n",
        "file_operations.append_to_file(filename, 'This is additional content.\\n')\n",
        "\n",
        "# Read from the file\n",
        "content = file_operations.read_from_file(filename)\n",
        "print(\"File Content:\")\n",
        "print(content)\n"
      ],
      "metadata": {
        "colab": {
          "base_uri": "https://localhost:8080/"
        },
        "id": "VS2WgOMWsCQL",
        "outputId": "c01edb81-068e-4e45-ec76-75650af7faaf"
      },
      "execution_count": null,
      "outputs": [
        {
          "output_type": "stream",
          "name": "stdout",
          "text": [
            "File Content:\n",
            "This is the initial content.\n",
            "This is additional content.\n",
            "\n"
          ]
        }
      ]
    },
    {
      "cell_type": "code",
      "source": [
        "#16. Write a Python program to create a text file named \"employees.txt\" and write the details of employees,\n",
        "#including their name, age, and salary, into the file."
      ],
      "metadata": {
        "id": "4YHZrcDjuP4l"
      },
      "execution_count": null,
      "outputs": []
    },
    {
      "cell_type": "code",
      "source": [
        "# Define a list of employees with their details\n",
        "employees = [\n",
        "    {\"name\": \"Alice\", \"age\": 30, \"salary\": 50000},\n",
        "    {\"name\": \"Bob\", \"age\": 25, \"salary\": 45000},\n",
        "    {\"name\": \"Charlie\", \"age\": 35, \"salary\": 60000}\n",
        "]\n",
        "\n",
        "# Open (and create if necessary) the file named 'employees.txt' for writing\n",
        "with open('employees.txt', 'w') as file:\n",
        "    # Write header line\n",
        "    file.write(\"Name\\tAge\\tSalary\\n\")\n",
        "    file.write(\"-\" * 30 + \"\\n\")\n",
        "\n",
        "    # Write each employee's details\n",
        "    for emp in employees:\n",
        "        file.write(f\"{emp['name']}\\t{emp['age']}\\t{emp['salary']}\\n\")\n"
      ],
      "metadata": {
        "id": "etjxGXj-uJJr"
      },
      "execution_count": null,
      "outputs": []
    },
    {
      "cell_type": "code",
      "source": [
        "with open('employees.txt', 'r') as file:\n",
        "    content = file.read()\n",
        "    print(content)\n"
      ],
      "metadata": {
        "colab": {
          "base_uri": "https://localhost:8080/"
        },
        "id": "Y2zeP1LXuOEu",
        "outputId": "e6a685f0-3988-41f3-8c9a-dc4bc562356c"
      },
      "execution_count": null,
      "outputs": [
        {
          "output_type": "stream",
          "name": "stdout",
          "text": [
            "Name\tAge\tSalary\n",
            "------------------------------\n",
            "Alice\t30\t50000\n",
            "Bob\t25\t45000\n",
            "Charlie\t35\t60000\n",
            "\n"
          ]
        }
      ]
    },
    {
      "cell_type": "code",
      "source": [
        "# Open the file 'inventory.txt' in read model\n",
        "\n"
      ],
      "metadata": {
        "colab": {
          "base_uri": "https://localhost:8080/",
          "height": 219
        },
        "id": "nzJ7XPYPuWUg",
        "outputId": "0c159876-052e-48a4-fc3b-c0e8ab5c6d08"
      },
      "execution_count": null,
      "outputs": [
        {
          "output_type": "error",
          "ename": "FileNotFoundError",
          "evalue": "[Errno 2] No such file or directory: 'inventory.txt'",
          "traceback": [
            "\u001b[0;31m---------------------------------------------------------------------------\u001b[0m",
            "\u001b[0;31mFileNotFoundError\u001b[0m                         Traceback (most recent call last)",
            "\u001b[0;32m<ipython-input-63-5ee9df459776>\u001b[0m in \u001b[0;36m<cell line: 2>\u001b[0;34m()\u001b[0m\n\u001b[1;32m      1\u001b[0m \u001b[0;31m# Open the file 'inventory.txt' in read mode\u001b[0m\u001b[0;34m\u001b[0m\u001b[0;34m\u001b[0m\u001b[0m\n\u001b[0;32m----> 2\u001b[0;31m \u001b[0;32mwith\u001b[0m \u001b[0mopen\u001b[0m\u001b[0;34m(\u001b[0m\u001b[0;34m'inventory.txt'\u001b[0m\u001b[0;34m,\u001b[0m \u001b[0;34m'r'\u001b[0m\u001b[0;34m)\u001b[0m \u001b[0;32mas\u001b[0m \u001b[0mfile\u001b[0m\u001b[0;34m:\u001b[0m\u001b[0;34m\u001b[0m\u001b[0;34m\u001b[0m\u001b[0m\n\u001b[0m\u001b[1;32m      3\u001b[0m     \u001b[0;31m# Read and print each line from the file\u001b[0m\u001b[0;34m\u001b[0m\u001b[0;34m\u001b[0m\u001b[0m\n\u001b[1;32m      4\u001b[0m     \u001b[0;32mfor\u001b[0m \u001b[0mline\u001b[0m \u001b[0;32min\u001b[0m \u001b[0mfile\u001b[0m\u001b[0;34m:\u001b[0m\u001b[0;34m\u001b[0m\u001b[0;34m\u001b[0m\u001b[0m\n\u001b[1;32m      5\u001b[0m         \u001b[0mprint\u001b[0m\u001b[0;34m(\u001b[0m\u001b[0mline\u001b[0m\u001b[0;34m.\u001b[0m\u001b[0mstrip\u001b[0m\u001b[0;34m(\u001b[0m\u001b[0;34m)\u001b[0m\u001b[0;34m)\u001b[0m  \u001b[0;31m# Using strip() to remove leading/trailing whitespace/newlines\u001b[0m\u001b[0;34m\u001b[0m\u001b[0;34m\u001b[0m\u001b[0m\n",
            "\u001b[0;31mFileNotFoundError\u001b[0m: [Errno 2] No such file or directory: 'inventory.txt'"
          ]
        }
      ]
    },
    {
      "cell_type": "code",
      "source": [
        "#50 machine learning\n",
        "#question What is the difference between Series & Dataframes"
      ],
      "metadata": {
        "id": "yyMxJHHQHr5G"
      },
      "execution_count": null,
      "outputs": []
    },
    {
      "cell_type": "markdown",
      "source": [
        "Definition of series : A Series is a one-dimensional labeled array that can hold any data type (integers, strings, floats, etc.)\n",
        ">Single column of data with an index.\n",
        "> Can be indexed by a label or integer location.\n",
        ">Homogeneous, meaning all elements in a Series are of the same data type.\n",
        "\n",
        "Definition of dataframes: A DataFrame is a two-dimensional labeled data structure with columns of potentially different data types.\n",
        ">Consists of rows and columns, similar to a table.\n",
        ">Can be indexed by row labels, column labels, or both.\n",
        ">Heterogeneous, meaning different columns can contain different data types."
      ],
      "metadata": {
        "id": "OfmDjRo5IE0E"
      }
    },
    {
      "cell_type": "code",
      "source": [
        "#question Difference between loc and iloc"
      ],
      "metadata": {
        "id": "wf2JwnZdInNR"
      },
      "execution_count": null,
      "outputs": []
    },
    {
      "cell_type": "markdown",
      "source": [
        "loc\n",
        "Definition: Accesses data using labels or a boolean array.\n",
        "Indexing Method: Label-based indexing (uses row and column labels).\n",
        "Usage: loc[row_label, column_label]\n",
        "Inclusive: Includes both the start and end labels when slicing.\n",
        "Supports: Supports both label slicing and boolean indexin\n",
        "\n",
        "\n",
        "iloc\n",
        "Definition: Accesses data using integer positions.\n",
        "Indexing Method: Position-based indexing (uses integer positions for rows and columns).\n",
        "Usage: iloc[row_index, column_index]\n",
        "Inclusive: Excludes the end index when slicing (similar to Python’s range function).\n",
        "Supports: Only supports integer-based indexing.\n",
        "\n",
        "\n"
      ],
      "metadata": {
        "id": "zrfr1FHyIyG2"
      }
    },
    {
      "cell_type": "code",
      "source": [
        "#question What is the difference between supervised and unsupervised learningk"
      ],
      "metadata": {
        "id": "EFaNH8PoI72C"
      },
      "execution_count": null,
      "outputs": []
    },
    {
      "cell_type": "markdown",
      "source": [
        "Supervised Learning\n",
        "Definition: Learning method where the model is trained on a labeled dataset, meaning the output (target) is known.\n",
        "Data: Uses labeled data with input-output pairs.\n",
        "Objective: The objective is to learn a mapping from inputs to the correct outputs.\n",
        "Examples: Classification (e.g., spam detection) and regression (e.g., predicting house prices).\n",
        "Common Algorithms: Linear Regression, Decision Trees, Support Vector Machines, Random Forests.\n",
        "\n",
        "Unsupervised Learning\n",
        "Definition: Learning method where the model is trained on an unlabeled dataset, meaning the output is not known.\n",
        "Data: Uses unlabeled data without explicit input-output pairs.\n",
        "Objective: The objective is to find hidden patterns, groupings, or structures in the data.\n",
        "Examples: Clustering (e.g., customer segmentation) and dimensionality reduction (e.g., PCA).\n",
        "Common Algorithms: K-Means, Hierarchical Clustering, DBSCAN, Principal Component Analysis (PCA).\n",
        "\n",
        "\n",
        "\n"
      ],
      "metadata": {
        "id": "14ni70l4JAWh"
      }
    },
    {
      "cell_type": "code",
      "source": [
        "#question: Explain the bias-variance tradeoff"
      ],
      "metadata": {
        "id": "l-d_T6OQJLys"
      },
      "execution_count": null,
      "outputs": []
    },
    {
      "cell_type": "markdown",
      "source": [
        "Bias\n",
        "Definition: Bias is the error introduced by approximating a real-world problem, which may be complex, by a much simpler model.\n",
        "High Bias: A model with high bias makes strong assumptions about the data, leading to oversimplifications.\n",
        "Effect: High bias causes the model to miss relevant relations between input features and the target output, leading to underfitting.\n",
        "Example: A linear model trying to fit non-linear data may have high bias.\n",
        "Variance\n",
        "Definition: Variance is the error introduced by the model's sensitivity to small fluctuations in the training data.\n",
        "High Variance: A model with high variance pays too much attention to the training data, capturing noise as if it were a true signal.\n",
        "Effect: High variance leads to overfitting, where the model performs well on training data but poorly on unseen data.\n",
        "Example: A very complex model, like a deep neural network with too many layers, may have high variance.\n",
        "Tradeoff\n",
        "Balance: The goal is to find a balance between bias and variance to minimize the total error.\n",
        "Low Bias & High Variance: The model fits the training data well but may perform poorly on new data.\n",
        "High Bias & Low Variance: The model generalizes better but may be too simple to capture the underlying pattern in the data.\n",
        "Optimal Model: Ideally, a model should have a good tradeoff, with low bias and low variance, leading to a model that generalizes well to new data.\n",
        "In summary, the bias-variance tradeoff involves finding the right level of complexity for your model to ensure it performs well both on training data and unseen data.\n",
        "\n",
        "\n",
        "\n"
      ],
      "metadata": {
        "id": "uWgLiQBeL3Ta"
      }
    },
    {
      "cell_type": "code",
      "source": [
        "#What are precision and recall? How are they different from accuracyk"
      ],
      "metadata": {
        "id": "BXK7MFjvlAsj"
      },
      "execution_count": null,
      "outputs": []
    },
    {
      "cell_type": "markdown",
      "source": [
        ". Precision:\n",
        "Definition: Precision is the ratio of correctly predicted positive observations to the total predicted positives.\n",
        "Recall:\n",
        "Definition: Recall, also known as sensitivity or true positive rate, is the ratio of correctly predicted positive observations to all the actual positives.\n",
        " Accuracy:\n",
        "Definition: Accuracy is the ratio of correctly predicted observations (both positive and negative) to the total observations.\n",
        "\n",
        "Differences:\n",
        "Precision vs. Recall:\n",
        "\n",
        "Precision focuses on the quality of positive predictions (i.e., how many selected items are relevant).\n",
        "Recall focuses on the quantity of positive predictions (i.e., how many relevant items are selected).\n",
        "Precision/Recall vs. Accuracy:\n",
        "\n",
        "Precision and Recall are more informative when dealing with imbalanced datasets where one class is much more frequent than the other. They give insight into how well the model identifies the minority class.\n",
        "Accuracy is a more general measure, but it can be misleading in cases of class imbalance. For example, if 95% of the data belongs to one class, a model that always predicts this class will have high accuracy but poor performance in identifying the minority class.\n"
      ],
      "metadata": {
        "id": "GebehhtBlZjx"
      }
    },
    {
      "cell_type": "code",
      "source": [
        "#What is overfitting and how can it be prevented?"
      ],
      "metadata": {
        "id": "88Ebo9LWliyg"
      },
      "execution_count": null,
      "outputs": []
    },
    {
      "cell_type": "markdown",
      "source": [
        "Overfitting occurs when a machine learning model learns the training data too well, capturing not only the underlying patterns but also the noise and random fluctuations. As a result, the model performs well on the training data but poorly on new, unseen data, indicating a lack of generalization.\n",
        "\n",
        "How to Prevent Overfitting\n",
        "Simplify the Model:\n",
        "\n",
        "Reduce Model Complexity: Use fewer features or simpler models like linear regression instead of higher-order polynomials.\n",
        "Pruning (for Decision Trees): Cut back branches that have little importance.\n",
        "Regularization:\n",
        "\n",
        "L1 Regularization (Lasso): Adds a penalty equal to the absolute value of the magnitude of coefficients.\n",
        "L2 Regularization (Ridge): Adds a penalty equal to the square of the magnitude of coefficients.\n",
        "Elastic Net: Combines both L1 and L2 regularization.\n",
        "Cross-Validation:\n",
        "\n",
        "K-Fold Cross-Validation: Split the dataset into 'k' subsets and train the model 'k' times, each time using a different subset as the validation set and the remaining as the training set.\n",
        "Early Stopping:\n",
        "\n",
        "Stop Training Early: Monitor the performance on a validation set and stop the training process when the performance starts to degrade.\n",
        "Use More Training Data:\n",
        "\n",
        "Expand the Dataset: More data can help the model to learn better patterns and generalize well.\n",
        "Ensemble Methods:\n",
        "\n",
        "Bagging (e.g., Random Forests): Combines multiple models to reduce variance.\n",
        "Boosting (e.g., Gradient Boosting Machines): Sequentially builds models to correct the errors of previous models.\n",
        "Dropout (for Neural Networks):\n",
        "\n",
        "Randomly Drop Neurons: During training, randomly drop neurons in a neural network layer to prevent co-adaptation.\n",
        "Data Augmentation:\n",
        "\n",
        "Generate More Data: Create new data samples by applying transformations (e.g., rotations, translations) to existing data, especially in image processing"
      ],
      "metadata": {
        "id": "gobxa-7Llxnp"
      }
    },
    {
      "cell_type": "code",
      "source": [
        "#Explain the concept of cross-validation"
      ],
      "metadata": {
        "id": "oAM37XSYl4lK"
      },
      "execution_count": null,
      "outputs": []
    },
    {
      "cell_type": "markdown",
      "source": [
        "Cross-validation is a technique used to assess the performance of a machine learning model and ensure it generalizes well to unseen data. It involves partitioning the dataset into multiple subsets, training the model on some subsets, and validating it on the remaining ones. This process is repeated multiple times to reduce the likelihood of bias and overfitting."
      ],
      "metadata": {
        "id": "vJ1U7xUql_ac"
      }
    },
    {
      "cell_type": "code",
      "source": [
        "#What is the difference between a classification and a regression problem"
      ],
      "metadata": {
        "id": "rADhSvuPmD34"
      },
      "execution_count": null,
      "outputs": []
    },
    {
      "cell_type": "markdown",
      "source": [
        "Nature of the Target:\n",
        "\n",
        "Classification: The target variable is categorical.\n",
        "Regression: The target variable is continuous.\n",
        "Performance Metrics:\n",
        "\n",
        "Classification: Common metrics include accuracy, precision, recall, F1-score, and the area under the ROC curve (AUC-ROC).\n",
        "Regression: Common metrics include mean squared error (MSE), root mean squared error (RMSE), mean absolute error (MAE), and R-squared.\n",
        "Example Outputs:\n",
        "\n",
        "Classification: \"Spam\" vs. \"Not Spam\" (binary), \"Cat\", \"Dog\", \"Bird\" (multi-class).\n",
        "Regression: Predicted price of a house (e.g., $300,000), predicted temperature (e.g., 25°C)."
      ],
      "metadata": {
        "id": "IqshMQX3mJll"
      }
    },
    {
      "cell_type": "code",
      "source": [
        "#Explain the concept of ensemble learning"
      ],
      "metadata": {
        "id": "hozDIi4mmNFV"
      },
      "execution_count": null,
      "outputs": []
    },
    {
      "cell_type": "markdown",
      "source": [
        "Ensemble learning is a machine learning technique that combines multiple models, often referred to as \"weak learners\" or \"base models,\" to create a more robust and accurate model. The idea is that by aggregating the predictions of several models, the ensemble can achieve better performance than any single model could on its own."
      ],
      "metadata": {
        "id": "mi-oX4_6mSY8"
      }
    },
    {
      "cell_type": "code",
      "source": [
        "#What is gradient descent and how does it work/"
      ],
      "metadata": {
        "id": "APJtbrnpmTmg"
      },
      "execution_count": null,
      "outputs": []
    },
    {
      "cell_type": "markdown",
      "source": [
        "Gradient Descent is an optimization algorithm used to minimize the loss function in machine learning models, particularly in training neural networks and linear regression models. The loss function measures how well the model's predictions match the actual data. By minimizing this function, we improve the model's performance.\n",
        "How Gradient Descent Works\n",
        "Initialize Parameters:\n",
        "\n",
        "Start with random values for the model parameters (e.g., weights and biases).\n",
        "Compute the Loss:\n",
        "\n",
        "Calculate the loss using the current parameters. The loss function could be Mean Squared Error (MSE) for regression, Cross-Entropy Loss for classification, etc.\n",
        "Calculate the Gradient:\n",
        "\n",
        "Compute the gradient of the loss function with respect to each parameter. This involves calculating the partial derivatives, which tell us how the loss changes as each parameter changes.\n",
        "Update Parameters:\n",
        "\n",
        "Adjust the parameters in the opposite direction of the gradient to reduce the loss:\n",
        "𝜃\n",
        "=\n",
        "𝜃\n",
        "−\n",
        "𝜂\n",
        "⋅\n",
        "∇\n",
        "𝐿\n",
        "(\n",
        "𝜃\n",
        ")\n",
        "θ=θ−η⋅∇L(θ)\n",
        "𝜃\n",
        "θ: The parameter vector (e.g., weights and biases).\n",
        "𝜂\n",
        "η: The learning rate, a small positive number that controls the size of the steps we take.\n",
        "∇\n",
        "𝐿\n",
        "(\n",
        "𝜃\n",
        ")\n",
        "∇L(θ): The gradient of the loss function with respect to the parameters.\n",
        "Repeat:\n",
        "\n",
        "Repeat the process of calculating the gradient and updating the parameters until the loss converges to a minimum (or until a maximum number of iterations is reached).\n"
      ],
      "metadata": {
        "id": "wFd5SB5Rmbtr"
      }
    },
    {
      "cell_type": "code",
      "source": [
        "#Describe the difference between batch gradient descent and stochastic gradient descent"
      ],
      "metadata": {
        "id": "l23f4pHfmiPP"
      },
      "execution_count": null,
      "outputs": []
    },
    {
      "cell_type": "markdown",
      "source": [
        "Batch Gradient Descent (BGD)\n",
        "Gradient Calculation:\n",
        "\n",
        "In BGD, the gradient of the loss function is computed using the entire training dataset.\n",
        "This means that every parameter update is based on the sum of the gradients for all data points.\n",
        "Parameter Update:\n",
        "\n",
        "Parameters are updated only once per iteration, after calculating the gradient across the entire dataset.\n",
        "The update rule is:\n",
        "𝜃\n",
        "=\n",
        "𝜃\n",
        "−\n",
        "𝜂\n",
        "⋅\n",
        "1\n",
        "𝑚\n",
        "∑\n",
        "𝑖\n",
        "=\n",
        "1\n",
        "𝑚\n",
        "∇\n",
        "𝐿\n",
        "(\n",
        "𝜃\n",
        ";\n",
        "𝑥\n",
        "(\n",
        "𝑖\n",
        ")\n",
        ",\n",
        "𝑦\n",
        "(\n",
        "𝑖\n",
        ")\n",
        ")\n",
        "θ=θ−η⋅\n",
        "m\n",
        "1\n",
        "​\n",
        "  \n",
        "i=1\n",
        "∑\n",
        "m\n",
        "​\n",
        " ∇L(θ;x\n",
        "(i)\n",
        " ,y\n",
        "(i)\n",
        " )\n",
        "where\n",
        "𝑚\n",
        "m is the total number of training examples,\n",
        "𝜃\n",
        "θ represents the model parameters,\n",
        "𝜂\n",
        "η is the learning rate, and\n",
        "∇\n",
        "𝐿\n",
        "(\n",
        "𝜃\n",
        ";\n",
        "𝑥\n",
        "(\n",
        "𝑖\n",
        ")\n",
        ",\n",
        "𝑦\n",
        "(\n",
        "𝑖\n",
        ")\n",
        ")\n",
        "∇L(θ;x\n",
        "(i)\n",
        " ,y\n",
        "(i)\n",
        " ) is the gradient of the loss with respect to the parameters for the\n",
        "𝑖\n",
        "i-th data point.\n",
        "Pros:\n",
        "\n",
        "Stable Convergence: BGD provides a smooth and stable convergence toward the minimum of the loss function.\n",
        "Global Minimum: It is less likely to get stuck in local minima when the loss function is convex.\n",
        "Cons:\n",
        "\n",
        "Computationally Expensive: Since it uses the entire dataset to calculate the gradient, it can be slow and resource-intensive, especially with large datasets.\n",
        "Delayed Updates: Because parameters are updated only once per iteration (after processing the entire dataset), convergence can be slow.\n",
        "Stochastic Gradient Descent (SGD)\n",
        "Gradient Calculation:\n",
        "\n",
        "In SGD, the gradient of the loss function is computed using only one randomly selected data point (or a single training example) at each iteration.\n",
        "This makes the gradient calculation much faster but also more variable.\n",
        "Parameter Update:\n",
        "\n",
        "Parameters are updated after every single data point, which means that the model is updated more frequently.\n",
        "\n",
        "\n",
        "Faster Updates: Since parameters are updated frequently (after each data point), SGD can lead to faster learning in the initial stages.\n",
        "Escaping Local Minima: The inherent noise in the gradient computation helps the algorithm to escape local minima and explore more of the loss landscape, which can lead to finding a better global minimum.\n",
        "Less Memory Usage: Since only one data point is needed at a time, SGD requires less memory.\n",
        "Cons:\n",
        "\n",
        "Noisy Convergence: The frequent updates can cause the loss function to fluctuate, making convergence noisy and potentially less stable.\n",
        "Potential for Oscillation: Without proper tuning of the learning rate, SGD can overshoot and oscillate around the minimum."
      ],
      "metadata": {
        "id": "TOm5t72Ymy-_"
      }
    },
    {
      "cell_type": "code",
      "source": [
        "#What is the curse of dimensionality in machine learning"
      ],
      "metadata": {
        "id": "w3HUpC1QnCkj"
      },
      "execution_count": null,
      "outputs": []
    },
    {
      "cell_type": "markdown",
      "source": [
        "he curse of dimensionality refers to various challenges that arise when working with high-dimensional data in machine learning. As the number of features (dimensions) in the dataset increases, the data becomes increasingly sparse, and many algorithms that work well in lower dimensions start to struggle."
      ],
      "metadata": {
        "id": "-7SDf8tSnKtw"
      }
    },
    {
      "cell_type": "code",
      "source": [
        "#Explain the difference between L1 and L2 regularization"
      ],
      "metadata": {
        "id": "8Y8erSufnLv6"
      },
      "execution_count": null,
      "outputs": []
    },
    {
      "cell_type": "markdown",
      "source": [
        "Penalty Term:\n",
        "\n",
        "L1 Regularization (Lasso): Adds the sum of the absolute values of the coefficients (\n",
        "𝜆\n",
        "∑\n",
        "∣\n",
        "𝜃\n",
        "𝑖\n",
        "∣\n",
        "λ∑∣θ\n",
        "i\n",
        "​\n",
        " ∣).\n",
        "L2 Regularization (Ridge): Adds the sum of the squared values of the coefficients (\n",
        "𝜆\n",
        "∑\n",
        "𝜃\n",
        "𝑖\n",
        "2\n",
        "λ∑θ\n",
        "i\n",
        "2\n",
        "​\n",
        " ).\n",
        "Effect on Coefficients:\n",
        "\n",
        "L1 Regularization (Lasso): Can drive some coefficients to exactly zero, leading to a sparse model.\n",
        "L2 Regularization (Ridge): Shrinks coefficients but does not necessarily drive them to zero, leading to a smoother model.\n",
        "Feature Selection:\n",
        "\n",
        "L1 Regularization (Lasso): Useful for feature selection by reducing some features' coefficients to zero.\n",
        "L2 Regularization (Ridge): Does not perform feature selection; all features remain in the model.\n",
        "Model Simplicity:\n",
        "\n",
        "L1 Regularization (Lasso): Can simplify the model by reducing the number of features.\n",
        "L2 Regularization (Ridge): Keeps all features but with smaller coefficients.\n",
        "Robustness:\n",
        "\n",
        "L1 Regularization (Lasso): Less robust to outliers; coefficients can be heavily influenced.\n",
        "L2 Regularization (Ridge): More robust to outliers; coefficients are less sensitive.\n",
        "\n"
      ],
      "metadata": {
        "id": "CBNqvxfJnbAe"
      }
    },
    {
      "cell_type": "code",
      "source": [
        "#What is a confusion matrix and how is it used"
      ],
      "metadata": {
        "id": "piRHGGo1ndfe"
      },
      "execution_count": null,
      "outputs": []
    },
    {
      "cell_type": "markdown",
      "source": [
        "A confusion matrix is a performance measurement tool for classification models, providing a detailed breakdown of how well a classification algorithm is performing. It summarizes the results of a classification problem by comparing the predicted labels to the true labels.\n",
        "How a Confusion Matrix is Used\n",
        "Evaluate Model Performance: Provides a detailed view of the classification performance by breaking down the results into true and false predictions. This helps to understand the types of errors the model is making.\n",
        "\n",
        "Identify Imbalances: Helps to identify if the model is biased towards one class. For example, if the number of false positives is high compared to true positives, the model might be over-predicting the positive class.\n",
        "\n",
        "Optimize Thresholds: For models where the prediction probability can be adjusted, the confusion matrix helps in choosing the optimal threshold for classification by analyzing how changes in thresholds affect TP, FP, TN, and FN.\n",
        "\n",
        "Compare Models: Allows comparison between different classification models based on metrics derived from the confusion matrix, such as precision, recall, and F1 score."
      ],
      "metadata": {
        "id": "xkbny8dhoI4U"
      }
    },
    {
      "cell_type": "code",
      "source": [
        "#Define AUC-ROC curve"
      ],
      "metadata": {
        "id": "81Rol603oLmk"
      },
      "execution_count": null,
      "outputs": []
    },
    {
      "cell_type": "markdown",
      "source": [
        "The AUC-ROC curve is a performance measurement for classification models, particularly useful for evaluating models on imbalanced datasets."
      ],
      "metadata": {
        "id": "yq-Eyqr0pjS_"
      }
    },
    {
      "cell_type": "code",
      "source": [
        "#Explain the k-nearest neighbors algorithm"
      ],
      "metadata": {
        "id": "LumOzbVPpkdE"
      },
      "execution_count": null,
      "outputs": []
    },
    {
      "cell_type": "markdown",
      "source": [
        "The k-Nearest Neighbors (k-NN) algorithm is a simple, yet powerful, classification and regression technique used in machine learning.\n",
        "\n",
        ">MAIN  Features\n",
        "Non-parametric: k-NN does not make any assumptions about the underlying data distribution. It is a non-parametric method.\n",
        "\n",
        ">Instance-based: k-NN does not build a model explicitly. Instead, it stores the training data and makes decisions based on this stored data during prediction."
      ],
      "metadata": {
        "id": "NDEFbHS-potp"
      }
    },
    {
      "cell_type": "code",
      "source": [
        "#Explain the basic concept of a Support Vector Machine (SVM)"
      ],
      "metadata": {
        "id": "eQvn5hwzp5fX"
      },
      "execution_count": null,
      "outputs": []
    },
    {
      "cell_type": "markdown",
      "source": [
        "The primary goal of an SVM is to find a hyperplane that best separates different classes in the feature space. Here’s how it works:\n",
        "\n",
        "Hyperplane:\n",
        "\n",
        "In a high-dimensional space, a hyperplane is a flat affine subspace of one dimension less than the space. For example, in a 2D space, the hyperplane is a line; in a 3D space, it is a plane.\n",
        "The SVM seeks to identify a hyperplane that maximizes the margin between two classes.\n",
        "Margin:\n",
        "\n",
        "The margin is the distance between the hyperplane and the nearest data points from either class. These nearest points are called support vectors.\n",
        "The SVM algorithm aims to maximize this margin, which helps in improving the generalization ability of the model.\n",
        "Support Vectors:\n",
        "\n",
        "Support vectors are the data points that are closest to the hyperplane and are crucial in determining its position and orientation.\n",
        "These points lie on the edge of the margin and directly influence the placement of the hyperplane.\n",
        "Separating Hyperplane:\n",
        "\n",
        "For a binary classification problem, the SVM finds a hyperplane that separates the data points of different classes with the largest possible margin.\n",
        "In mathematical terms, it solves an optimization problem to maximize the margin while ensuring that the data points are correctly classified."
      ],
      "metadata": {
        "id": "etMyhJyuqIBN"
      }
    }
  ]
}